{
  "cells": [
    {
      "cell_type": "markdown",
      "id": "2kEMDg9AZKHh",
      "metadata": {
        "id": "2kEMDg9AZKHh"
      },
      "source": [
        "# HW2P2 Checkpoint Submission (DUE 3 October 2025 @ 11:59PM EST)\n"
      ]
    },
    {
      "cell_type": "markdown",
      "id": "6bqfkxVjJdEj",
      "metadata": {
        "id": "6bqfkxVjJdEj"
      },
      "source": [
        "## Acknowledgement Requirement\n",
        "Before starting this checkpoint assignment:\n",
        "1. Remember to FREQUENTLY click \"Runtime\" > \"Run All\" or \"Run Before\" to make sure all necessary cells have re-executed after changing your answers.\n",
        "1. You MUST complete the HW2P2 notebook (not this checkpoint notebook) and submit a sufficient score to Kaggle to complete this checkpoint assignment.\n",
        "2. We highly recommend working on this in **GOOGLE COLAB** (set your runtime to CPU-only to save compute units)\n",
        "3. You may submit this to autolab before completing the Kaggle checkpoint to check your quiz answers (You will still need to put your kaggle username and api key). Just make sure you resubmit again later AFTER you have achieved checkpoint cutoff as well.\n",
        "4. Slack days may ONLY be used on P2 final submission. Not Checkpoint submission, and not P1 submissions of any kind.\n",
        "\n",
        "\n",
        "Notes for the competition/submission details:\n",
        "1. Do not attempt to tamper with this submission file. We will require your kaggle username here, and cross-check your autolab score with your official kaggle leaderboard score.\n",
        "2. You are NOT allowed to use any code that will pre-load models (such as those from Hugging Face, etc.).\n",
        "   You MAY use models described by papers or articles, but you MUST implement them yourself through fundamental PyTorch operations (Linear, Conv2d, etc.).\n",
        "3. You are NOT allowed to use any external datasets or data that are not part of this competition at ANY point of the training.\n",
        "4. While you are allowed to work with teammates to run ablations/experiments,\n",
        "   you must submit your OWN code and your OWN results.\n",
        "5. Failure to comply with the prior rules will be considered an Academic Integrity Violation (AIV).\n",
        "6. Late submissions MUST be submitted through the Slack Kaggle (see writeup for details). Any submissions made to the regular Kaggle after the original deadline will NOT be considered, no matter how many slack days remain for the student.\n",
        "\n",
        "\n",
        "Final notes:\n",
        "1. A FULL score is required on the MCQ, and kaggle submission must reach the checkpoint cutoff in order to receive 10/10 on this assignment.\n",
        "\n",
        "\n",
        "#Only set Acknowledged to True (check-marking the box) if you have read the above acknowlegement and agree to it."
      ]
    },
    {
      "cell_type": "code",
      "execution_count": null,
      "id": "uLFHu_nMfyjv",
      "metadata": {
        "id": "uLFHu_nMfyjv"
      },
      "outputs": [],
      "source": [
        "# @title Acknowledgement {\"run\":\"auto\",\"vertical-output\":true,\"form-width\":\"75%\",\"display-mode\":\"form\"}\n",
        "ACKNOWLEDGED = False # @param {\"type\":\"boolean\"}"
      ]
    },
    {
      "cell_type": "markdown",
      "id": "i2FH5kvvJtKE",
      "metadata": {
        "id": "i2FH5kvvJtKE"
      },
      "source": [
        "## Multiple Choice Questions\n"
      ]
    },
    {
      "cell_type": "markdown",
      "id": "I5Qj-V5nKCPU",
      "metadata": {
        "id": "I5Qj-V5nKCPU"
      },
      "source": [
        "### Question 1\n"
      ]
    },
    {
      "cell_type": "markdown",
      "id": "-N4TK5t1P-l4",
      "metadata": {
        "id": "-N4TK5t1P-l4"
      },
      "source": [
        "Which of the following statements about convolution layers is incorrect?"
      ]
    },
    {
      "cell_type": "markdown",
      "id": "2jkk-602P7PQ",
      "metadata": {
        "id": "2jkk-602P7PQ"
      },
      "source": [
        "\n",
        "\n",
        "- A: Regular convolutions directly obtain the affine value Z for a layer by convolving the input values A from the previous layer which leads to a reduction in the output size.\n",
        "- B: The primary operation of ConvTransposed1d is to convolve the input (with stride 1) after upsampling to obtain the output.\n",
        "- C: In multi- channel images, the basic rule is that no. input channels = no. kernels and no. output channels = no. kernel channels\n",
        "- D: A conv1d stride1 layer followed by a downsample1d layer with factor k is equivalent to a conv1d with stride k."
      ]
    },
    {
      "cell_type": "code",
      "execution_count": null,
      "id": "i_REgBUoKAt7",
      "metadata": {
        "cellView": "form",
        "id": "i_REgBUoKAt7"
      },
      "outputs": [],
      "source": [
        "# @title Q1 {\"run\":\"auto\",\"vertical-output\":true,\"form-width\":\"50%\"}\n",
        "QUESTION_1_ANSWER = \"\" #@param [\"\", \"A\", \"B\", \"C\", \"D\"]"
      ]
    },
    {
      "cell_type": "markdown",
      "id": "DRUXPuIgQhdh",
      "metadata": {
        "id": "DRUXPuIgQhdh"
      },
      "source": [
        "### Question 2"
      ]
    },
    {
      "cell_type": "markdown",
      "id": "TdIVOku-Qn8_",
      "metadata": {
        "id": "TdIVOku-Qn8_"
      },
      "source": [
        "The pooling operation itself is essentially an invariant operation that disregards slight positional variations. Typically, pooling employs a stride greater than 1, which is analogous to performing convolution followed by downsampling."
      ]
    },
    {
      "cell_type": "markdown",
      "id": "0a3Dg171QobN",
      "metadata": {
        "id": "0a3Dg171QobN"
      },
      "source": [
        "- **A**: True\n",
        "- **B**: False"
      ]
    },
    {
      "cell_type": "code",
      "execution_count": null,
      "id": "tdPPBra-Q55W",
      "metadata": {
        "cellView": "form",
        "id": "tdPPBra-Q55W"
      },
      "outputs": [],
      "source": [
        "# @title Q2 {\"run\":\"auto\",\"vertical-output\":true,\"form-width\":\"50%\"}\n",
        "QUESTION_2_ANSWER = \"\" #@param [\"\", \"A\", \"B\"]"
      ]
    },
    {
      "cell_type": "markdown",
      "id": "xk0XTHc6RrqW",
      "metadata": {
        "id": "xk0XTHc6RrqW"
      },
      "source": [
        "### Question 3\n"
      ]
    },
    {
      "cell_type": "markdown",
      "id": "dLgFbMPgRrqX",
      "metadata": {
        "id": "dLgFbMPgRrqX"
      },
      "source": [
        "Which of the following are true about pooling operations?\n"
      ]
    },
    {
      "cell_type": "markdown",
      "id": "T4UlXrbgoHoP",
      "metadata": {
        "id": "T4UlXrbgoHoP"
      },
      "source": [
        "**(List all correct answers in all caps, in quotes, and separated by comma, e.g. \"A, B, C\"). If only 1 is correct, then just write one letter e.g. \"A\"**\n",
        "\n",
        "- **A**: Pooling layer has no learnable parameters that need to be updated in the backward pass\n",
        "- **B**: Pooling layer functions as a resampling layer in the forward pass and downsampling layer in the backward pass.\n",
        "- **C**: Max-Pooling can be viewed as a standard convolution with a standard filter with max activation and mean-pooling can be seen as a normal convolution whose filter is 1/K where K is filter size.\n",
        "- **D**: Both max-pooling and mean-pooling can be implemented by scanning the input."
      ]
    },
    {
      "cell_type": "code",
      "execution_count": null,
      "id": "vgw9X6-jRrqY",
      "metadata": {
        "cellView": "form",
        "id": "vgw9X6-jRrqY"
      },
      "outputs": [],
      "source": [
        "# @title Q3 {\"run\":\"auto\",\"vertical-output\":true,\"form-width\":\"50%\"}\n",
        "QUESTION_3_ANSWER = \"\" #@param {type: \"string\"}\n",
        "# TODO List all correct answers in all caps, in quotes, and separated by comma, e.g. \"A, B, C\". If only 1 is correct, then just write one letter e.g. \"A\""
      ]
    },
    {
      "cell_type": "markdown",
      "id": "I17gUoHzR-mz",
      "metadata": {
        "id": "I17gUoHzR-mz"
      },
      "source": [
        "### Question 4\n"
      ]
    },
    {
      "cell_type": "markdown",
      "id": "AMueiXO5oMCe",
      "metadata": {
        "id": "AMueiXO5oMCe"
      },
      "source": [
        "True or False? ConvTranspose2D is a combination of DownSample2d and convolution with stride 1."
      ]
    },
    {
      "cell_type": "markdown",
      "id": "V1eBmUr2oNZS",
      "metadata": {
        "id": "V1eBmUr2oNZS"
      },
      "source": [
        "- **A**: True\n",
        "- **B**: False"
      ]
    },
    {
      "cell_type": "code",
      "execution_count": null,
      "id": "AgjURww2R-m0",
      "metadata": {
        "cellView": "form",
        "id": "AgjURww2R-m0"
      },
      "outputs": [],
      "source": [
        "# @title Q4 {\"run\":\"auto\",\"vertical-output\":true,\"form-width\":\"50%\"}\n",
        "QUESTION_4_ANSWER = \"\" #@param [\"\", \"A\", \"B\"]"
      ]
    },
    {
      "cell_type": "markdown",
      "id": "v0-1cyrNSRIK",
      "metadata": {
        "id": "v0-1cyrNSRIK"
      },
      "source": [
        "### Question 5"
      ]
    },
    {
      "cell_type": "markdown",
      "id": "zC0odn_YSRIL",
      "metadata": {
        "id": "zC0odn_YSRIL"
      },
      "source": [
        "How many Identities are their in the verification dataset?"
      ]
    },
    {
      "cell_type": "markdown",
      "id": "lAvIq6-nSRIL",
      "metadata": {
        "id": "lAvIq6-nSRIL"
      },
      "source": [
        "- **A**: 8631\n",
        "- **B**: 6000\n",
        "- **C**: 5749\n",
        "- **D**: 723"
      ]
    },
    {
      "cell_type": "code",
      "execution_count": null,
      "id": "AGoOsTlASRIM",
      "metadata": {
        "cellView": "form",
        "id": "AGoOsTlASRIM"
      },
      "outputs": [],
      "source": [
        "# @title Q5 {\"run\":\"auto\",\"vertical-output\":true,\"form-width\":\"50%\"}\n",
        "QUESTION_5_ANSWER = \"\" #@param [\"\", \"A\", \"B\", \"C\", \"D\"]"
      ]
    },
    {
      "cell_type": "markdown",
      "id": "rz_Id4L3SskB",
      "metadata": {
        "id": "rz_Id4L3SskB"
      },
      "source": [
        "### Question 6"
      ]
    },
    {
      "cell_type": "markdown",
      "id": "EZ1Ghf2PSskC",
      "metadata": {
        "id": "EZ1Ghf2PSskC"
      },
      "source": [
        "How many identities does the dataset consist of?"
      ]
    },
    {
      "cell_type": "markdown",
      "id": "OQAQjExOXmnC",
      "metadata": {
        "id": "OQAQjExOXmnC"
      },
      "source": [
        "- **A**: 8631\n",
        "- **B**: 6000\n",
        "- **C**: 5749\n",
        "- **D**: 723"
      ]
    },
    {
      "cell_type": "code",
      "execution_count": null,
      "id": "aMEiMtkoSskD",
      "metadata": {
        "cellView": "form",
        "id": "aMEiMtkoSskD"
      },
      "outputs": [],
      "source": [
        "# @title Q6 {\"run\":\"auto\",\"vertical-output\":true,\"form-width\":\"50%\"}\n",
        "QUESTION_6_ANSWER = \"\" #@param [\"\", \"A\", \"B\", \"C\", \"D\"]"
      ]
    },
    {
      "cell_type": "markdown",
      "id": "m2fwX_5ATG-5",
      "metadata": {
        "id": "m2fwX_5ATG-5"
      },
      "source": [
        "### Question 7"
      ]
    },
    {
      "cell_type": "markdown",
      "id": "B1XX1k-GTG-6",
      "metadata": {
        "id": "B1XX1k-GTG-6"
      },
      "source": [
        "Which of the following are advantages of augmentations according to the writeup?"
      ]
    },
    {
      "cell_type": "markdown",
      "id": "Durf0-LhTG-6",
      "metadata": {
        "id": "Durf0-LhTG-6"
      },
      "source": [
        "**(List all correct answers in all caps, in quotes, and separated by comma, e.g. \"A, B, C\"). If only 1 is correct, then just write one letter e.g. \"A\"**\n",
        "- **A**: Increase overfitting.\n",
        "- **B**: Increases the amount of data that is available for the model to train.\n",
        "- **C**: To make the model sensitive to position and orientation.\n",
        "- **D**: Better generalization of the model"
      ]
    },
    {
      "cell_type": "code",
      "execution_count": null,
      "id": "JF1G1fpYTG-6",
      "metadata": {
        "id": "JF1G1fpYTG-6"
      },
      "outputs": [],
      "source": [
        "# @title Q7 {\"run\":\"auto\",\"vertical-output\":true,\"form-width\":\"50%\"}\n",
        "QUESTION_7_ANSWER = \"\" #@param {type: \"string\"}\n",
        "# TODO List all correct answers in all caps, in quotes, and separated by comma, e.g. \"A, B, C\". If only 1 is correct, then just write one letter e.g. \"A\""
      ]
    },
    {
      "cell_type": "markdown",
      "id": "fSkBdzMKTlXV",
      "metadata": {
        "id": "fSkBdzMKTlXV"
      },
      "source": [
        "### Question 8"
      ]
    },
    {
      "cell_type": "markdown",
      "id": "T1Xm9JPZTlXX",
      "metadata": {
        "id": "T1Xm9JPZTlXX"
      },
      "source": [
        "Which similarity measures are mentioned in the writeup?"
      ]
    },
    {
      "cell_type": "markdown",
      "id": "mP-gUK2hTlXX",
      "metadata": {
        "id": "mP-gUK2hTlXX"
      },
      "source": [
        "**(List all correct answers in all caps, in quotes, and separated by comma, e.g. \"A, B, C\"). If only 1 is correct, then just write one letter e.g. \"A\"**\n",
        "- **A**: Manhattan distance\n",
        "- **B**: Jaccard distance\n",
        "- **C**: Cosine similarity\n",
        "- **D**: Euclidean distance"
      ]
    },
    {
      "cell_type": "code",
      "execution_count": null,
      "id": "QfseI8_vTlXY",
      "metadata": {
        "cellView": "form",
        "id": "QfseI8_vTlXY"
      },
      "outputs": [],
      "source": [
        "# @title Q8 {\"run\":\"auto\",\"vertical-output\":true,\"form-width\":\"50%\"}\n",
        "QUESTION_8_ANSWER = \"\" #@param {type: \"string\"}\n",
        "# TODO List all correct answers in all caps, in quotes, and separated by comma, e.g. \"A, B, C\". If only 1 is correct, then just write one letter e.g. \"A\""
      ]
    },
    {
      "cell_type": "markdown",
      "id": "U_INd3PAUGdr",
      "metadata": {
        "id": "U_INd3PAUGdr"
      },
      "source": [
        "### Question 9"
      ]
    },
    {
      "cell_type": "markdown",
      "id": "Z_u_2rbXUGdr",
      "metadata": {
        "id": "Z_u_2rbXUGdr"
      },
      "source": [
        "What is the primary goal of using advanced loss functions in face verification?"
      ]
    },
    {
      "cell_type": "markdown",
      "id": "w65ofmdXYuGX",
      "metadata": {
        "id": "w65ofmdXYuGX"
      },
      "source": [
        "- **A**: Enhancing feature vector separability\n",
        "- **B**: Maximizing intra-class compactness\n",
        "- **C**: Minimizing inter-class variability\n",
        "- **D**: Optimizing cross-entropy loss"
      ]
    },
    {
      "cell_type": "code",
      "execution_count": null,
      "id": "cfVJKjCEUGds",
      "metadata": {
        "cellView": "form",
        "id": "cfVJKjCEUGds"
      },
      "outputs": [],
      "source": [
        "# @title Q9 {\"run\":\"auto\",\"vertical-output\":true,\"form-width\":\"50%\"}\n",
        "QUESTION_9_ANSWER = \"\" #@param [\"\", \"A\", \"B\", \"C\", \"D\"]"
      ]
    },
    {
      "cell_type": "markdown",
      "id": "7cQFyubJUZn_",
      "metadata": {
        "id": "7cQFyubJUZn_"
      },
      "source": [
        "### Question 10"
      ]
    },
    {
      "cell_type": "markdown",
      "id": "6kNdBGx4UZoA",
      "metadata": {
        "id": "6kNdBGx4UZoA"
      },
      "source": [
        "What is the main purpose of using skip connections in residual network blocks?"
      ]
    },
    {
      "cell_type": "markdown",
      "id": "Vz_rzb0QUZoA",
      "metadata": {
        "id": "Vz_rzb0QUZoA"
      },
      "source": [
        "**(List all correct answers in all caps, in quotes, and separated by comma, e.g. \"A, B, C\"). If only 1 is correct, then just write one letter e.g. \"A\"**\n",
        "- **A**: To prevent vanishing and exploding gradients\n",
        "- **B**: To improve feature extraction in shallow layers\n",
        "- **C**: To reduce the number of parameters in the network\n",
        "- **D**: To increase the depth and efficiency of training deep neural networks"
      ]
    },
    {
      "cell_type": "code",
      "execution_count": null,
      "id": "NHinxqMfUZoA",
      "metadata": {
        "cellView": "form",
        "id": "NHinxqMfUZoA"
      },
      "outputs": [],
      "source": [
        "# @title Q10 {\"run\":\"auto\",\"vertical-output\":true,\"form-width\":\"50%\"}\n",
        "QUESTION_10_ANSWER = \"\" #@param {type: \"string\"}\n",
        "# TODO List all correct answers in all caps, in quotes, and separated by comma, e.g. \"A, B, C\". If only 1 is correct, then just write one letter e.g. \"A\""
      ]
    },
    {
      "cell_type": "markdown",
      "id": "c5JeisyK6aP3",
      "metadata": {
        "id": "c5JeisyK6aP3"
      },
      "source": [
        "## Kaggle Early Submission Credentials"
      ]
    },
    {
      "cell_type": "code",
      "execution_count": null,
      "id": "ae22d285",
      "metadata": {
        "id": "ae22d285"
      },
      "outputs": [],
      "source": [
        "# These are required, even if you are trying to check quiz questions only.\n",
        "KAGGLE_USERNAME = \"todo-your_kaggle_username\" # TODO: replace with your Kaggle username\n",
        "KAGGLE_KEY = \"todo-your_kaggle_key\" # TODO: replace with your Kaggle API key"
      ]
    },
    {
      "cell_type": "code",
      "execution_count": null,
      "id": "21dQSxDlHFkt",
      "metadata": {
        "id": "21dQSxDlHFkt"
      },
      "outputs": [],
      "source": [
        "!pip install --upgrade --force-reinstall --no-deps kaggle==1.7.4.2 --quiet # TODO: Install dependcies for subission"
      ]
    },
    {
      "cell_type": "markdown",
      "id": "KAvR2avMf2Bd",
      "metadata": {
        "id": "KAvR2avMf2Bd"
      },
      "source": [
        "# Assignment Backend Functions (DO NOT MODIFY)\n"
      ]
    },
    {
      "cell_type": "code",
      "execution_count": null,
      "id": "LnvXM-KS7zrN",
      "metadata": {
        "id": "LnvXM-KS7zrN"
      },
      "outputs": [],
      "source": [
        "# DO NOT MODIFY the following lines. Any mistakes in the output may result in a zero grade for the assignment.\n",
        "\n",
        "from datetime import datetime, timezone\n",
        "import zoneinfo\n",
        "\n",
        "##########################################\n",
        "#      Assignment Configs\n",
        "##########################################\n",
        "\n",
        "COMPETITION_NAME = \"11785-hw-2-p-2-face-verification-fall-2025\"\n",
        "CHECKPOINT_SUBMISSION_DATE = \"2025-10-03 23:59:59\" # yyyy-mm--dd hh:mm:ss\n",
        "CHECKPOINT_CUTOFF_SCORE = 0.09\n",
        "\n",
        "GRADING_DIRECTION = \"descending\" # Set to \"ascending\" if higher is a better score, and \"descending\" if lower is a better score.\n",
        "\n",
        "eastern = zoneinfo.ZoneInfo(\"America/New_York\")\n",
        "CHECKPOINT_DEADLINE_UTC = (\n",
        "    datetime.strptime(CHECKPOINT_SUBMISSION_DATE, \"%Y-%m-%d %H:%M:%S\")\n",
        "    .replace(tzinfo=eastern)\n",
        "    .astimezone(timezone.utc)\n",
        ")\n",
        "\n",
        "def multi_answer_validator(valid_options: set[str]):\n",
        "    \"\"\"\n",
        "    Returns a validator function that:\n",
        "    - Accepts a comma-separated string of answers\n",
        "    - Ensures all answers are valid (in the given set)\n",
        "    - Trims whitespace and converts to uppercase\n",
        "    - Rejects duplicates and empty answers\n",
        "    \"\"\"\n",
        "    return lambda v: (\n",
        "        isinstance(v, str)\n",
        "        and (choices := [a.strip() for a in v.upper().split(\",\") if a.strip()])\n",
        "        and all(choice in valid_options for choice in choices)\n",
        "        and len(choices) == len(set(choices))  # no duplicates\n",
        "    )\n",
        "\n",
        "\n",
        "# Each question has either a \"valid\" list or a \"custom\" lambda for validation\n",
        "question_config = {\n",
        "    1: {\"valid\": [\"A\", \"B\", \"C\", \"D\"]},\n",
        "    2: {\"valid\": [\"A\", \"B\"]},\n",
        "    3: {\"custom\": multi_answer_validator({\"A\", \"B\", \"C\", \"D\"})},\n",
        "    4: {\"valid\": [\"A\", \"B\"]},\n",
        "    5: {\"valid\": [\"A\", \"B\", \"C\", \"D\"]},\n",
        "    6: {\"valid\": [\"A\", \"B\", \"C\", \"D\"]},\n",
        "    7: {\"custom\": multi_answer_validator({\"A\", \"B\", \"C\", \"D\"})},\n",
        "    8: {\"custom\": multi_answer_validator({\"A\", \"B\", \"C\", \"D\"})},\n",
        "    9: {\"valid\": [\"A\", \"B\", \"C\", \"D\"]},\n",
        "    10: {\"custom\": multi_answer_validator({\"A\", \"B\", \"C\", \"D\"})}\n",
        "}\n",
        "\n",
        "##################################################################################\n",
        "\n",
        "def validate_quiz_questions():\n",
        "    answers = {}\n",
        "    valid_flags = {}\n",
        "    all_valid = True\n",
        "\n",
        "    for qnum, rules in question_config.items():\n",
        "        var_name = f\"QUESTION_{qnum}_ANSWER\"\n",
        "        value = globals().get(var_name)\n",
        "\n",
        "        # Check if answer was provided at all\n",
        "        if value is None:\n",
        "            print(f'ERROR: Question {qnum}: Answer is missing (cell might not have been run).')\n",
        "            valid_flags[qnum] = False\n",
        "            all_valid = False\n",
        "            continue\n",
        "\n",
        "        answers[qnum] = value\n",
        "\n",
        "        # Apply validation rule\n",
        "        if \"custom\" in rules:\n",
        "            is_valid = rules[\"custom\"](value)\n",
        "        elif \"valid\" in rules:\n",
        "            is_valid = value in rules[\"valid\"]\n",
        "        else:\n",
        "            is_valid = False  # Should not occur unless config is broken\n",
        "\n",
        "        valid_flags[qnum] = is_valid\n",
        "\n",
        "        # Report result\n",
        "        if is_valid:\n",
        "            print(f'OK: Question {qnum}: {value!r}')\n",
        "        else:\n",
        "            print(f'ERROR: Question {qnum}: {value!r} is NOT a valid response.')\n",
        "\n",
        "            all_valid = False\n",
        "\n",
        "    return all_valid, answers\n",
        "\n",
        "import requests\n",
        "import json\n",
        "import os\n",
        "import json\n",
        "from datetime import datetime\n",
        "import sys\n",
        "\n",
        "# Make kaggle user file\n",
        "kaggle_dir = os.path.join(\"/root/.kaggle/\")\n",
        "kaggle_json_path = os.path.join(kaggle_dir, \"kaggle.json\")\n",
        "\n",
        "os.makedirs(kaggle_dir, exist_ok=True)\n",
        "\n",
        "with open(kaggle_json_path, \"w+\") as f:\n",
        "    json.dump({\"username\": KAGGLE_USERNAME, \"key\": KAGGLE_KEY}, f)\n",
        "\n",
        "os.chmod(kaggle_json_path, 0o600)\n",
        "\n",
        "def kaggle_user_exists(username):\n",
        "    if not username or username == \"EnterUserNameHere\":\n",
        "        return False\n",
        "    url = f\"https://www.kaggle.com/{username}\"\n",
        "    try:\n",
        "        response = requests.get(url)\n",
        "        return response.status_code == 200\n",
        "    except Exception as e:\n",
        "        print(f\"ERROR: Error while checking Kaggle user: {e}\")\n",
        "        return False\n",
        "\n",
        "def get_competition_status_and_best_score(username, competition_name):\n",
        "    from kaggle.api.kaggle_api_extended import KaggleApi\n",
        "\n",
        "    api = KaggleApi()\n",
        "    try:\n",
        "        api.authenticate()\n",
        "    except Exception as e:\n",
        "        print(f\"ERROR: Kaggle authentication failed: {e}\")\n",
        "        return False, None\n",
        "\n",
        "    try:\n",
        "        submissions = api.competition_submissions(competition_name)\n",
        "        for sub in submissions:\n",
        "          print(sub)\n",
        "    except Exception as e:\n",
        "        print(f\"ERROR: Error fetching submissions: Make sure your kaggle api key is correct and try to restart the runtime and run again.\")\n",
        "        return False, None\n",
        "\n",
        "    if not submissions:\n",
        "        return False, None\n",
        "\n",
        "    def before_deadline(submission_date):\n",
        "        if not submission_date:\n",
        "            return False\n",
        "        if submission_date.tzinfo is None:\n",
        "            submission_date = submission_date.replace(tzinfo=timezone.utc)\n",
        "        return submission_date <= CHECKPOINT_DEADLINE_UTC\n",
        "\n",
        "    user_submissions = [\n",
        "        s for s in submissions\n",
        "        if getattr(s, \"submitted_by\", None) == username\n",
        "        and before_deadline(getattr(s, \"date\", None))\n",
        "    ]\n",
        "\n",
        "    if not user_submissions:\n",
        "        print(f\"ERROR: No valid submissions found for user '{username}' before deadline.\")\n",
        "        return False, None\n",
        "\n",
        "    scores = [\n",
        "        float(s.public_score)\n",
        "        for s in user_submissions\n",
        "        if getattr(s, \"public_score\", None) not in (None, \"\")\n",
        "    ]\n",
        "\n",
        "    if not scores:\n",
        "        best_score = None\n",
        "    elif GRADING_DIRECTION == \"ascending\":\n",
        "        best_score = max(scores)\n",
        "    elif GRADING_DIRECTION == \"descending\":\n",
        "        best_score = min(scores)\n",
        "    else:\n",
        "        raise ValueError(f\"Unknown GRADING_DIRECTION: {GRADING_DIRECTION}\")\n",
        "\n",
        "    return True, best_score\n",
        "\n",
        "def check_kaggle_submission():\n",
        "    if not ACKNOWLEDGED:\n",
        "        print(\"ERROR: You have not acknowledged the rules. Please set ACKNOWLEDGED = True.\")\n",
        "    else:\n",
        "        print(\"OK: You have acknowledged the competition rules.\")\n",
        "\n",
        "\n",
        "    if kaggle_user_exists(KAGGLE_USERNAME):\n",
        "        print(f\"OK: User '{KAGGLE_USERNAME}' account exists on Kaggle.\")\n",
        "    else:\n",
        "        print(f\"ERROR: User '{KAGGLE_USERNAME}' account does not exist. Check your Kaggle username. Even if you are trying to check your quiz questions only, you STILL need your Kaggle Username and API Key.\")\n",
        "\n",
        "    entered, best_score = get_competition_status_and_best_score(KAGGLE_USERNAME, COMPETITION_NAME)\n",
        "\n",
        "    if entered:\n",
        "        print(f\"OK: You have entered the competition '{COMPETITION_NAME}'.\")\n",
        "        if best_score is not None:\n",
        "            if (GRADING_DIRECTION == \"ascending\" and float(best_score) >= CHECKPOINT_CUTOFF_SCORE or\n",
        "            GRADING_DIRECTION == \"descending\" and float(best_score) <= CHECKPOINT_CUTOFF_SCORE):\n",
        "                print(f\"OK: Best public score: {best_score} meets the cutoff score of {CHECKPOINT_CUTOFF_SCORE}.\")\n",
        "            else:\n",
        "                print(f\"ERROR: Best public score: {best_score} does NOT meet the cutoff score of {CHECKPOINT_CUTOFF_SCORE}.\")\n",
        "        else:\n",
        "            print(f\"ERROR: No submissions with a public score.\")\n",
        "    else:\n",
        "        print(f\"ERROR: You have not entered the competition or made a valid submission.\")\n",
        "    return entered, best_score\n",
        "\n",
        "def create_submission_json():\n",
        "    output_json = {}\n",
        "\n",
        "    if not \"ACKNOWLEDGED\" in globals() or not ACKNOWLEDGED:\n",
        "        print(\"ERROR: Please re-run the Acknowledgement requirement section and set to True if you agree to the terms listed\")\n",
        "        return\n",
        "\n",
        "    output_json[\"acknowledgement\"] = ACKNOWLEDGED\n",
        "    all_valid, answers = validate_quiz_questions()\n",
        "    if not all_valid:\n",
        "         raise f'ERROR: Please ensure you have all questions, and re-run all cells.'\n",
        "\n",
        "    kaggle_credentials_provided = (\n",
        "        \"KAGGLE_USERNAME\" in globals()\n",
        "        and \"KAGGLE_KEY\" in globals()\n",
        "        and KAGGLE_USERNAME\n",
        "        and KAGGLE_KEY\n",
        "        and KAGGLE_USERNAME != \"EnterUserNameHere\"\n",
        "    )\n",
        "\n",
        "    if kaggle_credentials_provided:\n",
        "        from kaggle.api.kaggle_api_extended import KaggleApi\n",
        "        kaggle_dir = os.path.join(os.path.expanduser(\"~\"), \".kaggle\")\n",
        "        kaggle_json_path = os.path.join(kaggle_dir, \"kaggle.json\")\n",
        "\n",
        "        os.makedirs(kaggle_dir, exist_ok=True)\n",
        "        with open(kaggle_json_path, \"w\") as f:\n",
        "            json.dump({\"username\": KAGGLE_USERNAME, \"key\": KAGGLE_KEY}, f)\n",
        "        os.chmod(kaggle_json_path, 0o600)\n",
        "\n",
        "        entered, best_score = check_kaggle_submission()\n",
        "\n",
        "        if entered:\n",
        "            output_json['achieved_cutoff'] = (best_score >= CHECKPOINT_CUTOFF_SCORE and GRADING_DIRECTION == \"ascending\" or\n",
        "                                              best_score <= CHECKPOINT_CUTOFF_SCORE and GRADING_DIRECTION == \"descending\")\n",
        "        else:\n",
        "            print(\"WARNING: Not entered in competition. Submission will only check MCQs.\\n REQUIRED: Make sure to resubmit later once Checkpoint cutoff score is reached on Kaggle.\")\n",
        "\n",
        "        output_json['kaggle_username'] = KAGGLE_USERNAME\n",
        "        filename_suffix = \"\"\n",
        "    else:\n",
        "        print(\"WARNING: Kaggle credentials not provided or incomplete. Only quiz questions will be included.\")\n",
        "        filename_suffix = \"_missing_kaggle\"\n",
        "\n",
        "    for qnum, val in answers.items():\n",
        "        output_json[f'Q{qnum}'] = val.upper() if isinstance(val, str) else int(val)\n",
        "\n",
        "    filename = f\"checkpoint_submission{filename_suffix}.json\"\n",
        "\n",
        "    # Save and download\n",
        "    def is_colab():\n",
        "        return \"google.colab\" in sys.modules\n",
        "\n",
        "    if is_colab():\n",
        "        with open(os.path.join(\"/content\", filename), \"w\") as f:\n",
        "            json.dump(output_json, f, indent=2)\n",
        "        from google.colab import files\n",
        "        files.download(filename)\n",
        "    else:\n",
        "        with open(filename, \"w\") as f:\n",
        "            json.dump(output_json, f, indent=2)\n",
        "        print(f\"OK: File saved locally as '{filename}'. Submit to Autolab if needed.\")\n"
      ]
    },
    {
      "cell_type": "markdown",
      "id": "vfnuVYLM6mDE",
      "metadata": {
        "id": "vfnuVYLM6mDE"
      },
      "source": [
        "# TODO: Submission Generation"
      ]
    },
    {
      "cell_type": "code",
      "execution_count": null,
      "id": "MB84NJ6i6lGz",
      "metadata": {
        "id": "MB84NJ6i6lGz"
      },
      "outputs": [],
      "source": [
        "create_submission_json() # TODO: Click \"Runtime\" > \"Run all\"\n",
        "#TODO: If the checkpint_submission.json file does not\n",
        "# automatically bring up a donwload pop-up\n",
        "# Then make sure to entire the files and\n",
        "#manually download the checkpoint_submission.json file."
      ]
    }
  ],
  "metadata": {
    "colab": {
      "provenance": []
    },
    "kernelspec": {
      "display_name": "Python 3",
      "name": "python3"
    },
    "language_info": {
      "codemirror_mode": {
        "name": "ipython",
        "version": 3
      },
      "file_extension": ".py",
      "mimetype": "text/x-python",
      "name": "python",
      "nbconvert_exporter": "python",
      "pygments_lexer": "ipython3",
      "version": "3.13.2"
    }
  },
  "nbformat": 4,
  "nbformat_minor": 5
}
