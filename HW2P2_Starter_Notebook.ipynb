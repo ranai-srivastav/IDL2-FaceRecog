{
  "cells": [
    {
      "cell_type": "markdown",
      "metadata": {
        "id": "UbXkUQWFLBRF"
      },
      "source": [
        "# HW2P2: Image Recognition and Verification"
      ]
    },
    {
      "cell_type": "markdown",
      "metadata": {
        "id": "VMg74_LaLL55"
      },
      "source": [
        "This is the second homework  in 11785: Introduction to Deep Learning. We are trying to tackle the problem of Image Verification. For this, we will need to first train our own CNN model to tackle the problem of classification, consisting of 8631 identities. Using this, we get the face embeddings for different pairs of images and try to identify if the pair of face matches or not."
      ]
    },
    {
      "cell_type": "markdown",
      "metadata": {
        "id": "7zcx2lHRylKP"
      },
      "source": [
        "# Schedule:\n",
        "- Checkpoint Submission (DUE 03 October 2025 @ 11:59PM EST)\n",
        "- Kaggle Submission (DUE 10 October 2025 @ 11:59PM EST | Slack Deadline is 17 October 2025 @ 11:59PM EST)\n",
        "- Code Submission (DUE 12 October 2025 @ 11:59PM EST OR Day-of Slack submission)\n"
      ]
    },
    {
      "cell_type": "markdown",
      "metadata": {
        "id": "tcf4nWStyj1g"
      },
      "source": [
        "## Requirement Acknowledgement\n",
        "Setting the below flag to True indicates full understanding and acceptance of the following:\n",
        "1. Slack days may ONLY be used on P2 FINAL (not checkpoint) submission. I.e. you may use slack days to submit final P2 kaggle scores (such as this one) later on the **SLACK KAGGLE COMPETITION** at the expense of your Slack days.\n",
        "2. The final autolab **code submission is due 48 hours after** the conclusion of the Kaggle Deadline (or, the same day as your final kaggle submission).\n",
        "3. We will require your kaggle username here, and then we will pull your official PRIVATE kaggle leaderboard score. This submission may result in slight variance in scores/code, but we will check for acceptable discrepancies. Any discrepancies related to modifying the submission code (at the bottom of the notebook) will result in an AIV.\n",
        "4. You are NOT allowed to use any code that will pre-load models (such as those from Hugging Face, etc.).\n",
        "   You MAY use models described by papers or articles, but you MUST implement them yourself through fundamental PyTorch operations (i.e. Linear, Conv2d, etc.).\n",
        "5. You are NOT allowed to use any external data/datasets at ANY point of this assignment.\n",
        "6. You may work with teammates to run ablations/experiments, BUT you must submit your OWN code and your OWN results.\n",
        "7. Failure to comply with the prior rules will be considered an Academic Integrity Violation (AIV).\n",
        "8. Late submissions MUST be submitted through the Slack Kaggle (see writeup for details). Any submissions made to the regular Kaggle after the original deadline will NOT be considered, no matter how many slack days remain for the student."
      ]
    },
    {
      "cell_type": "code",
      "execution_count": null,
      "metadata": {
        "id": "zay-09kmxqjQ"
      },
      "outputs": [],
      "source": [
        "ACKNOWLEDGED = False #TODO: Only set Acknowledged to True if you have read the above acknowlegements and agree to ALL of them."
      ]
    },
    {
      "cell_type": "markdown",
      "metadata": {
        "id": "WyCRnMfvp83m"
      },
      "source": [
        "## Welcome to the World of Convolutions!\n",
        "In the previous homework, you learned about Multi-Layer Perceptrons (MLPs), the foundation of deep learning. MLPs demonstrated how networks could learn to predict phonemes from speech data, understand patterns, and even approximate complex functions. However, as powerful as MLPs are, they can struggle when dealing with image data. Flattening images into 1D vectors loses spatial information, like how pixels relate to one another. That’s where Convolutional Neural Networks (CNNs) step in, preserving these relationships and taking us one step closer to designing models that \"see\" the world as we do.\n",
        "\n",
        "In this homework, you’ll explore CNNs by working on face classification and verification tasks. Imagine training a model to identify a face from a set of known identities (classification) and then using the same model to decide whether two face images belong to the same person (verification).\n",
        "\n",
        "For example, given a photo of your friend and a group photo, the classifier would identify your friend’s name, while the verifier would confirm whether two photos depict the same person, even if the person wasn’t part of the training data. CNNs make this possible by extracting hierarchical features from images—from edges and corners in early layers to complex patterns like facial features in deeper layers.\n",
        "\n",
        "To succeed, you’ll need to understand the nuances of loss functions. Classification relies on Cross-Entropy Loss, which optimizes the model to predict the correct label. For verification, however, we care about embedding similarity. This is where Triplet Loss or** ArcFace Loss** comes in, pushing embeddings of the same person closer together while separating those of different individuals. For instance, a good verification system would ensure that photos of two siblings (often visually similar) are distinguishable in the embedding space, all while being robust to lighting or pose differences.\n",
        "\n",
        "This homework will also emphasize the practical skills needed for real-world deep learning. You’ll preprocess images, apply data augmentation like flipping or cropping to make the model robust to shifts in the images, and experiment with CNN architectures such as ResNet or ConvNeXt. Along the way, you’ll see how designing a model for classification doesn’t automatically make it suitable for verification, teaching you the importance of aligning task objectives with the right loss function. By the end, you’ll have built a robust system that mimics cutting-edge face recognition applications, from unlocking smartphones to verifying IDs. Let’s take this exciting leap together!"
      ]
    },
    {
      "cell_type": "markdown",
      "metadata": {
        "id": "b9EpnOYJ3kG1"
      },
      "source": [
        "# **SET-UP**\n",
        "\n",
        "\n",
        "Join the kaggle competition first (https://www.kaggle.com/t/93e12fee620b40d7a82990b9fe1815c7)"
      ]
    },
    {
      "cell_type": "markdown",
      "metadata": {
        "id": "p5VKNQO43kG2"
      },
      "source": [
        "## **Colab Users**"
      ]
    },
    {
      "cell_type": "markdown",
      "metadata": {
        "id": "pgN5GgiS3kG2"
      },
      "source": [
        "#### Step 1: Environment Setup"
      ]
    },
    {
      "cell_type": "code",
      "execution_count": 3,
      "metadata": {},
      "outputs": [],
      "source": [
        "## Config environment\n",
        "\n",
        "KAGGLE=False\n",
        "COLLAB=False\n",
        "PSC=False\n",
        "AWS=False\n",
        "LOCAL=True\n"
      ]
    },
    {
      "cell_type": "code",
      "execution_count": 1,
      "metadata": {
        "id": "sQr0ss8w6jVI"
      },
      "outputs": [
        {
          "name": "stdout",
          "output_type": "stream",
          "text": [
            "Mon Sep 29 14:50:44 2025       \n",
            "+-----------------------------------------------------------------------------------------+\n",
            "| NVIDIA-SMI 575.64.03              Driver Version: 575.64.03      CUDA Version: 12.9     |\n",
            "|-----------------------------------------+------------------------+----------------------+\n",
            "| GPU  Name                 Persistence-M | Bus-Id          Disp.A | Volatile Uncorr. ECC |\n",
            "| Fan  Temp   Perf          Pwr:Usage/Cap |           Memory-Usage | GPU-Util  Compute M. |\n",
            "|                                         |                        |               MIG M. |\n",
            "|=========================================+========================+======================|\n",
            "|   0  NVIDIA GeForce GTX 1080 Ti     Off |   00000000:19:00.0 Off |                  N/A |\n",
            "| 29%   26C    P8              7W /  250W |       7MiB /  11264MiB |      0%      Default |\n",
            "|                                         |                        |                  N/A |\n",
            "+-----------------------------------------+------------------------+----------------------+\n",
            "|   1  NVIDIA GeForce GTX 1080 Ti     Off |   00000000:1A:00.0 Off |                  N/A |\n",
            "| 20%   36C    P8              9W /  250W |       7MiB /  11264MiB |      0%      Default |\n",
            "|                                         |                        |                  N/A |\n",
            "+-----------------------------------------+------------------------+----------------------+\n",
            "|   2  NVIDIA GeForce GTX 1080 Ti     Off |   00000000:67:00.0 Off |                  N/A |\n",
            "| 28%   33C    P8              9W /  250W |       7MiB /  11264MiB |      0%      Default |\n",
            "|                                         |                        |                  N/A |\n",
            "+-----------------------------------------+------------------------+----------------------+\n",
            "|   3  NVIDIA GeForce GTX 1080 Ti     Off |   00000000:68:00.0 Off |                  N/A |\n",
            "| 20%   36C    P8             10W /  250W |     173MiB /  11264MiB |      0%      Default |\n",
            "|                                         |                        |                  N/A |\n",
            "+-----------------------------------------+------------------------+----------------------+\n",
            "                                                                                         \n",
            "+-----------------------------------------------------------------------------------------+\n",
            "| Processes:                                                                              |\n",
            "|  GPU   GI   CI              PID   Type   Process name                        GPU Memory |\n",
            "|        ID   ID                                                               Usage      |\n",
            "|=========================================================================================|\n",
            "|    0   N/A  N/A            1817      G   /usr/lib/xorg/Xorg                        4MiB |\n",
            "|    1   N/A  N/A            1817      G   /usr/lib/xorg/Xorg                        4MiB |\n",
            "|    2   N/A  N/A            1817      G   /usr/lib/xorg/Xorg                        4MiB |\n",
            "|    3   N/A  N/A            1817      G   /usr/lib/xorg/Xorg                      121MiB |\n",
            "|    3   N/A  N/A            2087      G   /usr/bin/gnome-shell                      8MiB |\n",
            "|    3   N/A  N/A            2996      G   ...bin/snapd-desktop-integration          6MiB |\n",
            "|    3   N/A  N/A          564984      G   .../6836/usr/lib/firefox/firefox         23MiB |\n",
            "+-----------------------------------------------------------------------------------------+\n"
          ]
        }
      ],
      "source": [
        "!nvidia-smi # Run this to see what GPU you have"
      ]
    },
    {
      "cell_type": "code",
      "execution_count": 4,
      "metadata": {
        "id": "PVajPH813kG3"
      },
      "outputs": [],
      "source": [
        "if COLLAB and \"google.colab\" in sys.modules:\n",
        "    from google.colab import drive\n",
        "    drive.mount('/content/drive')"
      ]
    },
    {
      "cell_type": "code",
      "execution_count": null,
      "metadata": {
        "id": "aR_QSfhu3kG4"
      },
      "outputs": [],
      "source": [
        "if COLLAB and os.path.exists(\"/content\"):\n",
        "    %cd /content\n",
        "    !pwd"
      ]
    },
    {
      "cell_type": "code",
      "execution_count": 7,
      "metadata": {
        "id": "0rbYdRn63kG4"
      },
      "outputs": [],
      "source": [
        "!pip install wandb --quiet # Install WandB\n",
        "!pip install pytorch_metric_learning --quiet # Install the Pytorch Metric Library\n",
        "!pip install torchinfo --quiet # Install torchinfo"
      ]
    },
    {
      "cell_type": "markdown",
      "metadata": {
        "id": "E4v1jGLi3kG5"
      },
      "source": [
        "#### Step 2: Get Data"
      ]
    },
    {
      "cell_type": "code",
      "execution_count": null,
      "metadata": {
        "id": "jbbKsdqO3kG5"
      },
      "outputs": [],
      "source": [
        "if COLLAB:\n",
        "    # TODO: Use the same Kaggle code from HW2P2\n",
        "    !pip install --upgrade --force-reinstall --no-deps kaggle==1.7.4.2 --quiet\n",
        "    !mkdir /root/.kaggle\n",
        "\n",
        "    with open(\"/root/.kaggle/kaggle.json\", \"w+\") as f:\n",
        "        f.write('{\"username\":\"todo-kaggle username\",\"key\":\"todo-kaggle key\"}')\n",
        "        # Put your kaggle username & key here\n",
        "\n",
        "    !chmod 600 /root/.kaggle/kaggle.json\n",
        "    "
      ]
    },
    {
      "cell_type": "code",
      "execution_count": 8,
      "metadata": {
        "id": "CGBDqD4w3kG5"
      },
      "outputs": [
        {
          "name": "stdout",
          "output_type": "stream",
          "text": [
            "Downloading 11785-hw-2-p-2-face-verification-fall-2025.zip to /home/smores/ranais/IDL2-FaceRecog\n",
            " 97%|████████████████████████████████████▊ | 2.46G/2.54G [00:01<00:00, 1.77GB/s]\n",
            "100%|██████████████████████████████████████| 2.54G/2.54G [00:01<00:00, 1.76GB/s]\n"
          ]
        }
      ],
      "source": [
        "# # Reminder: Make sure you have connected your kaggle API before running this block\n",
        "# !mkdir '/content/data'\n",
        "\n",
        "!kaggle competitions download -c 11785-hw-2-p-2-face-verification-fall-2025\n",
        "!unzip -qo '11785-hw-2-p-2-face-verification-fall-2025.zip' -d 'data'"
      ]
    },
    {
      "cell_type": "markdown",
      "metadata": {
        "id": "E8G-S6Qu3kG6"
      },
      "source": [
        "## **Kaggle Users**\n",
        "\n"
      ]
    },
    {
      "cell_type": "markdown",
      "metadata": {
        "id": "Ah--YMLE3kG6"
      },
      "source": [
        "#### Step 1: Environment Setup"
      ]
    },
    {
      "cell_type": "code",
      "execution_count": null,
      "metadata": {
        "id": "wVQgN9Wp3kG6"
      },
      "outputs": [
        {
          "name": "stdout",
          "output_type": "stream",
          "text": [
            "/home/smores/ranais/IDL2-FaceRecog\n"
          ]
        }
      ],
      "source": [
        "!pwd"
      ]
    },
    {
      "cell_type": "code",
      "execution_count": null,
      "metadata": {
        "id": "MFJt80k03kG7"
      },
      "outputs": [],
      "source": [
        "if KAGGLE:\n",
        "    !pip install wandb --quiet # Install WandB\n",
        "    !pip install pytorch_metric_learning --quiet # Install the Pytorch Metric Library\n",
        "    !pip install torchinfo --quiet # Install torchinfo"
      ]
    },
    {
      "cell_type": "markdown",
      "metadata": {
        "id": "L1yqsDZK3kG7"
      },
      "source": [
        "#### Step 2: Get Data\n",
        "\n",
        "If you are using Kaggle, follow these steps to add the dataset directly to your notebook:\n",
        "1. Join the kaggle competition (https://www.kaggle.com/t/93e12fee620b40d7a82990b9fe1815c7)\n",
        "2. Open your **Kaggle Notebook**.  \n",
        "3. Navigate to **Notebook → Input**.  \n",
        "4. Click **Add Input**.  \n",
        "5. Choose \"Competition Datasets\" and \"Your work\", and then you'll be able to see the competiation \"11785-hw-2-p-2-face-verification-fall-2025\"\n",
        "6. Click the **➕ (plus sign)** to add the dataset to your notebook.  "
      ]
    },
    {
      "cell_type": "markdown",
      "metadata": {
        "id": "aD8oEOiY3kG8"
      },
      "source": [
        "## **PSC Users**"
      ]
    },
    {
      "cell_type": "markdown",
      "metadata": {
        "id": "g5XKN5jZ3kG8"
      },
      "source": [
        "### 1️⃣ **Step 1 Setting Up Your Environment on Bridges2**\n",
        "\n",
        "❗️⚠️ For this homework, we are **providing shared Datasets and a shared Conda environment** for the entire class.\n",
        "\n",
        "❗️⚠️ So for PSC users, **do not download the data yourself** and **do not need to manually install the packages**!"
      ]
    },
    {
      "cell_type": "markdown",
      "metadata": {
        "id": "84eOp-UY3kG8"
      },
      "source": [
        "Follow these steps to set up the environment and start a Jupyter notebook on Bridges2:\n",
        "\n",
        "To run your notebook more efficiently on PSC, we need to use a **Jupyter Server** hosted on a compute node.\n",
        "\n",
        "You can use your prefered way of connecting to the Jupyter Server.\n",
        "\n"
      ]
    },
    {
      "cell_type": "markdown",
      "metadata": {
        "id": "P5gfdJzx3kG8"
      },
      "source": [
        "**The recommended way of connecting is:**\n",
        "\n",
        "#### **Connect in VSCode**\n",
        "SSH into Bridges2 and navigate to your **Jet directory** (`Jet/home/<your_username>`). Upload your notebook there, and then connect to the Jupyter Server from that directory."
      ]
    },
    {
      "cell_type": "markdown",
      "metadata": {
        "id": "EutBOttx3kG8"
      },
      "source": [
        "#### **1. SSH into Bridges2**\n",
        "1）Open VS Code and click on the `Extensions` icon in the left sidebar. Make sure the \"**Remote - SSH**\" extension is installed.\n",
        "\n",
        "2）Open the command palette (**Shift+Command+P** on Mac, **Ctrl+Shift+P** on Windows). A search box will appear at the top center. Choose `\"Remote-SSH: Add New SSH Host\"`, then enter:\n",
        "\n",
        "```bash\n",
        "ssh <your_username>@bridges2.psc.edu #change <your_username> to your username\n",
        "```\n",
        "\n",
        "Next, choose `\"/Users/<your_username>/.ssh/config\"` as the config file. A dialog will appear in the bottom right saying \"Host Added\". Click `\"Connect\"`, and then enter your password.\n",
        "\n",
        "(Note: After adding the host once, you can later use `\"Remote-SSH: Connect to Host\"` and select \"bridges2.psc.edu\" from the list.)\n",
        "\n",
        "3）Once connected, click `\"Explorer\"` in the left sidebar > \"Open Folder\", and navigate to your home directory under the project grant:\n",
        "```bash\n",
        "/jet/home/<your_username>  #change <your_username> to your username\n",
        "```\n",
        "\n",
        "4）You can now drag your notebook files directly into the right-hand pane (your remote home directory), or upload them using `scp` into your folder."
      ]
    },
    {
      "cell_type": "markdown",
      "metadata": {
        "id": "wzoiexf53kG8"
      },
      "source": [
        "> ❗️⚠️ The following steps should be executed in the **VSCode integrated terminal**."
      ]
    },
    {
      "cell_type": "markdown",
      "metadata": {
        "id": "62j2RAEA3kG8"
      },
      "source": [
        "#### **2. Navigate to Your Directory**\n",
        "Make sure to use this `/jet/home/<your_username>` as your working directory, since all subsequent operations (up to submission) are based on this path.\n",
        "```bash\n",
        "cd /jet/home/<your_username>  #change <your_username> to your username\n",
        "```"
      ]
    },
    {
      "cell_type": "markdown",
      "metadata": {
        "id": "HavF1IlO3kG9"
      },
      "source": [
        "#### **3. Request a Compute Node**\n",
        "```bash\n",
        "interact -p GPU-shared --gres=gpu:v100-32:1 -t 8:00:00 -A cis250019p\n",
        "```"
      ]
    },
    {
      "cell_type": "markdown",
      "metadata": {
        "id": "d5l6iDrZ3kG9"
      },
      "source": [
        "#### **4. Load the Anaconda Module**\n",
        "```bash\n",
        "module load anaconda3\n",
        "```"
      ]
    },
    {
      "cell_type": "markdown",
      "metadata": {
        "id": "Rsnoo8SU3kG9"
      },
      "source": [
        "#### **5. Activate the provided HW2 Environment**\n",
        "```bash\n",
        "conda deactivate # First, deactivate any existing Conda environment\n",
        "conda activate /ocean/projects/cis250019p/mzhang23/TA/HW2P2/envs/hw2p2_env && export PYTHONNOUSERSITE=1\n",
        "```"
      ]
    },
    {
      "cell_type": "markdown",
      "metadata": {
        "id": "da-B39u83kG9"
      },
      "source": [
        "#### **6. Start Jupyter Notebook**\n",
        "Launch Jupyter Notebook:\n",
        "```bash\n",
        "jupyter notebook --no-browser --ip=0.0.0.0\n",
        "```\n",
        "\n",
        "Go to **Kernel** → **Select Another Kernel** → **Existing Jupyter Server**\n",
        "   Enter the URL of the Jupyter Server:```http://{hostname}:{port}/tree?token={token}```\n",
        "   \n",
        "   *(Usually, this URL appears in the terminal output after you run `jupyter notebook --no-browser --ip=0.0.0.0`, in a line like:  “Jupyter Server is running at: http://...”)*\n",
        "\n",
        "   - eg: `http://v011.ib.bridges2.psc.edu:8888/tree?token=e4b302434e68990f28bc2b4ae8d216eb87eecb7090526249`\n",
        "\n",
        "> **Note**: Replace `{hostname}`, `{port}` and `{token}` with your actual values from the Jupyter output."
      ]
    },
    {
      "cell_type": "markdown",
      "metadata": {
        "id": "M3VWeHyS3kG9"
      },
      "source": [
        "#### **7. Navigate to Your Jet Directory**\n",
        "\n",
        "After launching the Jupyter notebook, you can run the cells directly inside the notebook — no need to use the terminal for the remaining steps.\n",
        "\n",
        "First, navigate to your **Jet directory** (`/jet/home/<your_username>`).\n",
        "\n",
        "️❗️⚠ Please make sure to use your **Jet directory**, not the **Ocean path** — **all HW setup and outputs below are based on this directory**."
      ]
    },
    {
      "cell_type": "code",
      "execution_count": null,
      "metadata": {
        "id": "TOnI9xHM3kHC"
      },
      "outputs": [],
      "source": [
        "if PSC:\n",
        "    #Make sure you are in your directory\n",
        "    !pwd #should be /jet/home/<your_username>, if not, uncomment the following line and replace with your actual username:\n",
        "    %cd /jet/home/<your_username>  #TODO: replace the \"<your_username>\" to yours"
      ]
    },
    {
      "cell_type": "markdown",
      "metadata": {
        "id": "TrdNB7VI3kHD"
      },
      "source": [
        "### 2️⃣ **Step 2: Set up Kaggle API Authentication**"
      ]
    },
    {
      "cell_type": "code",
      "execution_count": null,
      "metadata": {
        "id": "iXxci9RA3kHD"
      },
      "outputs": [],
      "source": [
        "if PSC:\n",
        "    # TODO: Use the same Kaggle code from HW2P2\n",
        "    !mkdir /jet/home/<your_username>/.kaggle #TODO: replace the \"<your_username>\" to yours\n",
        "\n",
        "    with open(\"/jet/home/<your_username>/.kaggle/kaggle.json\", \"w+\") as f: #TODO: replace the \"<your_username>\" to yours\n",
        "        f.write('{\"username\":\"<your_username>\",\"key\":\"<your_key>\"}')\n",
        "        # TODO: Put your kaggle username & key here\n",
        "\n",
        "    !chmod 600 /jet/home/<your_username>/.kaggle/kaggle.json #TODO: replace the \"<your_username>\" to yours"
      ]
    },
    {
      "cell_type": "markdown",
      "metadata": {
        "id": "yHgQ2mR_3kHD"
      },
      "source": [
        "### 3️⃣ **Step 3: Get Data**\n",
        "\n",
        "❗️⚠️ The data used in this assignment is **already stored in a shared, read-only folder, so you do not need to manually download anything**.\n",
        "\n",
        "Instead, just make sure to replace the dataset path in your notebook code with the correct path from the shared directory.\n",
        "\n",
        "You can run the following block to explore the shared directory structure:"
      ]
    },
    {
      "cell_type": "code",
      "execution_count": null,
      "metadata": {
        "id": "3YNxFJYL3kHD"
      },
      "outputs": [],
      "source": [
        "if PSC:\n",
        "    import os\n",
        "    data_path = \"/ocean/projects/cis250019p/mzhang23/TA/HW2P2/hw2p2_data/hw2p2_puru_aligned\" #Shared data path, do not need to change the username to yours\n",
        "    print(\"Files in shared hw2p2 dataset:\", os.listdir(data_path))"
      ]
    },
    {
      "cell_type": "code",
      "execution_count": null,
      "metadata": {
        "id": "sBE_Tqy33kHD"
      },
      "outputs": [],
      "source": [
        "if PSC:\n",
        "    !apt-get install tree\n",
        "    !tree -L 2 /ocean/projects/cis250019p/mzhang23/TA/HW2P2/hw2p2_data/hw2p2_puru_aligned"
      ]
    },
    {
      "cell_type": "markdown",
      "metadata": {
        "id": "Q1XE_p9OsQGp"
      },
      "source": [
        "# Imports"
      ]
    },
    {
      "cell_type": "code",
      "execution_count": 1,
      "metadata": {
        "id": "GKZw2YsvsPZV"
      },
      "outputs": [
        {
          "ename": "RuntimeError",
          "evalue": "operator torchvision::nms does not exist",
          "output_type": "error",
          "traceback": [
            "\u001b[0;31m---------------------------------------------------------------------------\u001b[0m",
            "\u001b[0;31mRuntimeError\u001b[0m                              Traceback (most recent call last)",
            "Cell \u001b[0;32mIn[1], line 3\u001b[0m\n\u001b[1;32m      1\u001b[0m \u001b[38;5;28;01mimport\u001b[39;00m \u001b[38;5;21;01mtorch\u001b[39;00m\n\u001b[1;32m      2\u001b[0m \u001b[38;5;28;01mfrom\u001b[39;00m \u001b[38;5;21;01mtorchsummary\u001b[39;00m \u001b[38;5;28;01mimport\u001b[39;00m summary\n\u001b[0;32m----> 3\u001b[0m \u001b[38;5;28;01mimport\u001b[39;00m \u001b[38;5;21;01mtorchvision\u001b[39;00m\n\u001b[1;32m      4\u001b[0m \u001b[38;5;28;01mfrom\u001b[39;00m \u001b[38;5;21;01mtorchvision\u001b[39;00m\u001b[38;5;21;01m.\u001b[39;00m\u001b[38;5;21;01mutils\u001b[39;00m \u001b[38;5;28;01mimport\u001b[39;00m make_grid\n\u001b[1;32m      5\u001b[0m \u001b[38;5;28;01mfrom\u001b[39;00m \u001b[38;5;21;01mtorchvision\u001b[39;00m \u001b[38;5;28;01mimport\u001b[39;00m transforms\n",
            "File \u001b[0;32m~/software/torchvision/torchvision/__init__.py:10\u001b[0m\n\u001b[1;32m      7\u001b[0m \u001b[38;5;66;03m# Don't re-order these, we need to load the _C extension (done when importing\u001b[39;00m\n\u001b[1;32m      8\u001b[0m \u001b[38;5;66;03m# .extensions) before entering _meta_registrations.\u001b[39;00m\n\u001b[1;32m      9\u001b[0m \u001b[38;5;28;01mfrom\u001b[39;00m \u001b[38;5;21;01m.\u001b[39;00m\u001b[38;5;21;01mextension\u001b[39;00m \u001b[38;5;28;01mimport\u001b[39;00m _HAS_OPS  \u001b[38;5;66;03m# usort:skip\u001b[39;00m\n\u001b[0;32m---> 10\u001b[0m \u001b[38;5;28;01mfrom\u001b[39;00m \u001b[38;5;21;01mtorchvision\u001b[39;00m \u001b[38;5;28;01mimport\u001b[39;00m _meta_registrations, datasets, io, models, ops, transforms, utils  \u001b[38;5;66;03m# usort:skip\u001b[39;00m\n\u001b[1;32m     12\u001b[0m \u001b[38;5;28;01mtry\u001b[39;00m:\n\u001b[1;32m     13\u001b[0m     \u001b[38;5;28;01mfrom\u001b[39;00m \u001b[38;5;21;01m.\u001b[39;00m\u001b[38;5;21;01mversion\u001b[39;00m \u001b[38;5;28;01mimport\u001b[39;00m __version__  \u001b[38;5;66;03m# noqa: F401\u001b[39;00m\n",
            "File \u001b[0;32m~/software/torchvision/torchvision/_meta_registrations.py:164\u001b[0m\n\u001b[1;32m    153\u001b[0m     torch\u001b[38;5;241m.\u001b[39m_check(\n\u001b[1;32m    154\u001b[0m         grad\u001b[38;5;241m.\u001b[39mdtype \u001b[38;5;241m==\u001b[39m rois\u001b[38;5;241m.\u001b[39mdtype,\n\u001b[1;32m    155\u001b[0m         \u001b[38;5;28;01mlambda\u001b[39;00m: (\n\u001b[0;32m   (...)\u001b[0m\n\u001b[1;32m    158\u001b[0m         ),\n\u001b[1;32m    159\u001b[0m     )\n\u001b[1;32m    160\u001b[0m     \u001b[38;5;28;01mreturn\u001b[39;00m grad\u001b[38;5;241m.\u001b[39mnew_empty((batch_size, channels, height, width))\n\u001b[1;32m    163\u001b[0m \u001b[38;5;129;43m@torch\u001b[39;49m\u001b[38;5;241;43m.\u001b[39;49m\u001b[43mlibrary\u001b[49m\u001b[38;5;241;43m.\u001b[39;49m\u001b[43mregister_fake\u001b[49m\u001b[43m(\u001b[49m\u001b[38;5;124;43m\"\u001b[39;49m\u001b[38;5;124;43mtorchvision::nms\u001b[39;49m\u001b[38;5;124;43m\"\u001b[39;49m\u001b[43m)\u001b[49m\n\u001b[0;32m--> 164\u001b[0m \u001b[38;5;28;43;01mdef\u001b[39;49;00m\u001b[43m \u001b[49m\u001b[38;5;21;43mmeta_nms\u001b[39;49m\u001b[43m(\u001b[49m\u001b[43mdets\u001b[49m\u001b[43m,\u001b[49m\u001b[43m \u001b[49m\u001b[43mscores\u001b[49m\u001b[43m,\u001b[49m\u001b[43m \u001b[49m\u001b[43miou_threshold\u001b[49m\u001b[43m)\u001b[49m\u001b[43m:\u001b[49m\n\u001b[1;32m    165\u001b[0m \u001b[43m    \u001b[49m\u001b[43mtorch\u001b[49m\u001b[38;5;241;43m.\u001b[39;49m\u001b[43m_check\u001b[49m\u001b[43m(\u001b[49m\u001b[43mdets\u001b[49m\u001b[38;5;241;43m.\u001b[39;49m\u001b[43mdim\u001b[49m\u001b[43m(\u001b[49m\u001b[43m)\u001b[49m\u001b[43m \u001b[49m\u001b[38;5;241;43m==\u001b[39;49m\u001b[43m \u001b[49m\u001b[38;5;241;43m2\u001b[39;49m\u001b[43m,\u001b[49m\u001b[43m \u001b[49m\u001b[38;5;28;43;01mlambda\u001b[39;49;00m\u001b[43m:\u001b[49m\u001b[43m \u001b[49m\u001b[38;5;124;43mf\u001b[39;49m\u001b[38;5;124;43m\"\u001b[39;49m\u001b[38;5;124;43mboxes should be a 2d tensor, got \u001b[39;49m\u001b[38;5;132;43;01m{\u001b[39;49;00m\u001b[43mdets\u001b[49m\u001b[38;5;241;43m.\u001b[39;49m\u001b[43mdim\u001b[49m\u001b[43m(\u001b[49m\u001b[43m)\u001b[49m\u001b[38;5;132;43;01m}\u001b[39;49;00m\u001b[38;5;124;43mD\u001b[39;49m\u001b[38;5;124;43m\"\u001b[39;49m\u001b[43m)\u001b[49m\n\u001b[1;32m    166\u001b[0m \u001b[43m    \u001b[49m\u001b[43mtorch\u001b[49m\u001b[38;5;241;43m.\u001b[39;49m\u001b[43m_check\u001b[49m\u001b[43m(\u001b[49m\u001b[43mdets\u001b[49m\u001b[38;5;241;43m.\u001b[39;49m\u001b[43msize\u001b[49m\u001b[43m(\u001b[49m\u001b[38;5;241;43m1\u001b[39;49m\u001b[43m)\u001b[49m\u001b[43m \u001b[49m\u001b[38;5;241;43m==\u001b[39;49m\u001b[43m \u001b[49m\u001b[38;5;241;43m4\u001b[39;49m\u001b[43m,\u001b[49m\u001b[43m \u001b[49m\u001b[38;5;28;43;01mlambda\u001b[39;49;00m\u001b[43m:\u001b[49m\u001b[43m \u001b[49m\u001b[38;5;124;43mf\u001b[39;49m\u001b[38;5;124;43m\"\u001b[39;49m\u001b[38;5;124;43mboxes should have 4 elements in dimension 1, got \u001b[39;49m\u001b[38;5;132;43;01m{\u001b[39;49;00m\u001b[43mdets\u001b[49m\u001b[38;5;241;43m.\u001b[39;49m\u001b[43msize\u001b[49m\u001b[43m(\u001b[49m\u001b[38;5;241;43m1\u001b[39;49m\u001b[43m)\u001b[49m\u001b[38;5;132;43;01m}\u001b[39;49;00m\u001b[38;5;124;43m\"\u001b[39;49m\u001b[43m)\u001b[49m\n",
            "File \u001b[0;32m~/software/pytorch/torch/library.py:1063\u001b[0m, in \u001b[0;36mregister_fake.<locals>.register\u001b[0;34m(func)\u001b[0m\n\u001b[1;32m   1061\u001b[0m \u001b[38;5;28;01melse\u001b[39;00m:\n\u001b[1;32m   1062\u001b[0m     use_lib \u001b[38;5;241m=\u001b[39m lib\n\u001b[0;32m-> 1063\u001b[0m \u001b[43muse_lib\u001b[49m\u001b[38;5;241;43m.\u001b[39;49m\u001b[43m_register_fake\u001b[49m\u001b[43m(\u001b[49m\n\u001b[1;32m   1064\u001b[0m \u001b[43m    \u001b[49m\u001b[43mop_name\u001b[49m\u001b[43m,\u001b[49m\u001b[43m \u001b[49m\u001b[43mfunc\u001b[49m\u001b[43m,\u001b[49m\u001b[43m \u001b[49m\u001b[43m_stacklevel\u001b[49m\u001b[38;5;241;43m=\u001b[39;49m\u001b[43mstacklevel\u001b[49m\u001b[43m \u001b[49m\u001b[38;5;241;43m+\u001b[39;49m\u001b[43m \u001b[49m\u001b[38;5;241;43m1\u001b[39;49m\u001b[43m,\u001b[49m\u001b[43m \u001b[49m\u001b[43mallow_override\u001b[49m\u001b[38;5;241;43m=\u001b[39;49m\u001b[43mallow_override\u001b[49m\n\u001b[1;32m   1065\u001b[0m \u001b[43m\u001b[49m\u001b[43m)\u001b[49m\n\u001b[1;32m   1066\u001b[0m \u001b[38;5;28;01mreturn\u001b[39;00m func\n",
            "File \u001b[0;32m~/software/pytorch/torch/library.py:211\u001b[0m, in \u001b[0;36mLibrary._register_fake\u001b[0;34m(self, op_name, fn, _stacklevel, allow_override)\u001b[0m\n\u001b[1;32m    208\u001b[0m \u001b[38;5;28;01melse\u001b[39;00m:\n\u001b[1;32m    209\u001b[0m     func_to_register \u001b[38;5;241m=\u001b[39m fn\n\u001b[0;32m--> 211\u001b[0m handle \u001b[38;5;241m=\u001b[39m \u001b[43mentry\u001b[49m\u001b[38;5;241;43m.\u001b[39;49m\u001b[43mfake_impl\u001b[49m\u001b[38;5;241;43m.\u001b[39;49m\u001b[43mregister\u001b[49m\u001b[43m(\u001b[49m\n\u001b[1;32m    212\u001b[0m \u001b[43m    \u001b[49m\u001b[43mfunc_to_register\u001b[49m\u001b[43m,\u001b[49m\u001b[43m \u001b[49m\u001b[43msource\u001b[49m\u001b[43m,\u001b[49m\u001b[43m \u001b[49m\u001b[43mlib\u001b[49m\u001b[38;5;241;43m=\u001b[39;49m\u001b[38;5;28;43mself\u001b[39;49m\u001b[43m,\u001b[49m\u001b[43m \u001b[49m\u001b[43mallow_override\u001b[49m\u001b[38;5;241;43m=\u001b[39;49m\u001b[43mallow_override\u001b[49m\n\u001b[1;32m    213\u001b[0m \u001b[43m\u001b[49m\u001b[43m)\u001b[49m\n\u001b[1;32m    214\u001b[0m \u001b[38;5;28mself\u001b[39m\u001b[38;5;241m.\u001b[39m_registration_handles\u001b[38;5;241m.\u001b[39mappend(handle)\n",
            "File \u001b[0;32m~/software/pytorch/torch/_library/fake_impl.py:50\u001b[0m, in \u001b[0;36mFakeImplHolder.register\u001b[0;34m(self, func, source, lib, allow_override)\u001b[0m\n\u001b[1;32m     44\u001b[0m \u001b[38;5;28;01mif\u001b[39;00m \u001b[38;5;28mself\u001b[39m\u001b[38;5;241m.\u001b[39mkernel \u001b[38;5;129;01mis\u001b[39;00m \u001b[38;5;129;01mnot\u001b[39;00m \u001b[38;5;28;01mNone\u001b[39;00m:\n\u001b[1;32m     45\u001b[0m     \u001b[38;5;28;01mraise\u001b[39;00m \u001b[38;5;167;01mRuntimeError\u001b[39;00m(\n\u001b[1;32m     46\u001b[0m         \u001b[38;5;124mf\u001b[39m\u001b[38;5;124m\"\u001b[39m\u001b[38;5;124mregister_fake(...): the operator \u001b[39m\u001b[38;5;132;01m{\u001b[39;00m\u001b[38;5;28mself\u001b[39m\u001b[38;5;241m.\u001b[39mqualname\u001b[38;5;132;01m}\u001b[39;00m\u001b[38;5;124m \u001b[39m\u001b[38;5;124m\"\u001b[39m\n\u001b[1;32m     47\u001b[0m         \u001b[38;5;124mf\u001b[39m\u001b[38;5;124m\"\u001b[39m\u001b[38;5;124malready has an fake impl registered at \u001b[39m\u001b[38;5;124m\"\u001b[39m\n\u001b[1;32m     48\u001b[0m         \u001b[38;5;124mf\u001b[39m\u001b[38;5;124m\"\u001b[39m\u001b[38;5;132;01m{\u001b[39;00m\u001b[38;5;28mself\u001b[39m\u001b[38;5;241m.\u001b[39mkernel\u001b[38;5;241m.\u001b[39msource\u001b[38;5;132;01m}\u001b[39;00m\u001b[38;5;124m.\u001b[39m\u001b[38;5;124m\"\u001b[39m\n\u001b[1;32m     49\u001b[0m     )\n\u001b[0;32m---> 50\u001b[0m \u001b[38;5;28;01mif\u001b[39;00m \u001b[43mtorch\u001b[49m\u001b[38;5;241;43m.\u001b[39;49m\u001b[43m_C\u001b[49m\u001b[38;5;241;43m.\u001b[39;49m\u001b[43m_dispatch_has_kernel_for_dispatch_key\u001b[49m\u001b[43m(\u001b[49m\u001b[38;5;28;43mself\u001b[39;49m\u001b[38;5;241;43m.\u001b[39;49m\u001b[43mqualname\u001b[49m\u001b[43m,\u001b[49m\u001b[43m \u001b[49m\u001b[38;5;124;43m\"\u001b[39;49m\u001b[38;5;124;43mMeta\u001b[39;49m\u001b[38;5;124;43m\"\u001b[39;49m\u001b[43m)\u001b[49m:\n\u001b[1;32m     51\u001b[0m     \u001b[38;5;28;01mraise\u001b[39;00m \u001b[38;5;167;01mRuntimeError\u001b[39;00m(\n\u001b[1;32m     52\u001b[0m         \u001b[38;5;124mf\u001b[39m\u001b[38;5;124m\"\u001b[39m\u001b[38;5;124mregister_fake(...): the operator \u001b[39m\u001b[38;5;132;01m{\u001b[39;00m\u001b[38;5;28mself\u001b[39m\u001b[38;5;241m.\u001b[39mqualname\u001b[38;5;132;01m}\u001b[39;00m\u001b[38;5;124m \u001b[39m\u001b[38;5;124m\"\u001b[39m\n\u001b[1;32m     53\u001b[0m         \u001b[38;5;124mf\u001b[39m\u001b[38;5;124m\"\u001b[39m\u001b[38;5;124malready has an DispatchKey::Meta implementation via a \u001b[39m\u001b[38;5;124m\"\u001b[39m\n\u001b[0;32m   (...)\u001b[0m\n\u001b[1;32m     56\u001b[0m         \u001b[38;5;124mf\u001b[39m\u001b[38;5;124m\"\u001b[39m\u001b[38;5;124mregister_fake.\u001b[39m\u001b[38;5;124m\"\u001b[39m\n\u001b[1;32m     57\u001b[0m     )\n\u001b[1;32m     59\u001b[0m \u001b[38;5;28;01mif\u001b[39;00m torch\u001b[38;5;241m.\u001b[39m_C\u001b[38;5;241m.\u001b[39m_dispatch_has_kernel_for_dispatch_key(\n\u001b[1;32m     60\u001b[0m     \u001b[38;5;28mself\u001b[39m\u001b[38;5;241m.\u001b[39mqualname, \u001b[38;5;124m\"\u001b[39m\u001b[38;5;124mCompositeImplicitAutograd\u001b[39m\u001b[38;5;124m\"\u001b[39m\n\u001b[1;32m     61\u001b[0m ):\n",
            "\u001b[0;31mRuntimeError\u001b[0m: operator torchvision::nms does not exist"
          ]
        }
      ],
      "source": [
        "import torch\n",
        "from torchsummary import summary\n",
        "import torchvision\n",
        "from torchvision.utils import make_grid\n",
        "from torchvision import transforms\n",
        "import torchvision.transforms.v2 as T\n",
        "from torch.utils.data import DataLoader\n",
        "import torch.nn.functional as F\n",
        "import os\n",
        "import gc\n",
        "# from tqdm import tqdm\n",
        "from tqdm.auto import tqdm\n",
        "from PIL import Image\n",
        "import numpy as np\n",
        "import pandas as pd\n",
        "from sklearn.metrics import accuracy_score\n",
        "from sklearn import metrics as mt\n",
        "from scipy.optimize import brentq\n",
        "from scipy.interpolate import interp1d\n",
        "import glob\n",
        "import wandb\n",
        "import matplotlib.pyplot as plt\n",
        "from pytorch_metric_learning import samplers\n",
        "import csv\n",
        "\n",
        "DEVICE = 'cuda' if torch.cuda.is_available() else 'cpu'\n",
        "print(\"Device: \", DEVICE)\n"
      ]
    },
    {
      "cell_type": "markdown",
      "metadata": {
        "id": "9OgkfYwP7HVt"
      },
      "source": [
        "# Config"
      ]
    },
    {
      "cell_type": "markdown",
      "metadata": {
        "id": "YnmbQ6VntU5D"
      },
      "source": [
        "### Notes:\n",
        "\n",
        "- You will need to set the root path to your `hw2p2_data` folder in `data: root:`. This will depend on your setup. For eg. if you are following out setup instruction:\n",
        "  - `Colab:`: `\"/content/data/hw2p2_puru_aligned\"`\n",
        "  - `Kaggle:`: `\"/kaggle/input/11785-hw-2-p-2-face-verification-fall-2025/hw2p2_puru_aligned\"`\n",
        "  - `PSC`: `\"/ocean/projects/cis250019p/mzhang23/TA/HW2P2/hw2p2_data/hw2p2_puru_aligned\"`\n",
        "\n",
        "Kindly modify your configurations to suit your ablations and be keen to include your name."
      ]
    },
    {
      "cell_type": "code",
      "execution_count": null,
      "metadata": {
        "id": "CMXkHmFc7G9m"
      },
      "outputs": [],
      "source": [
        "config = {\n",
        "    'batch_size': 64, # Increase this if your GPU can handle it\n",
        "    'lr': 0.1,\n",
        "    'epochs': 20, # 20 epochs is recommended ONLY for the early submission - you will have to train for much longer typically.\n",
        "    'num_classes': 8631, #Dataset contains 8631 classes for classification, reduce this number if you want to train on a subset, but only for train dataset and not on val dataset\n",
        "    'cls_data_dir': \"\", #TODO: Provide path of classification directory\n",
        "    'ver_data_dir': \"\", #TODO: Provide path of verification directory\n",
        "    'val_pairs_file': \"\", #TODO: Provide path of text file containing val pairs for verification\n",
        "    'test_pairs_file': \"\", #TODO: Provide path of text file containing test pairs for verification\n",
        "    'checkpoint_dir': \"\", #TODO: Checkpoint directory\n",
        "    'augument': False\n",
        "    # Include other parameters as needed.\n",
        "}"
      ]
    },
    {
      "cell_type": "markdown",
      "metadata": {
        "id": "EEAW65sB8Wlp"
      },
      "source": [
        "# Dataset"
      ]
    },
    {
      "cell_type": "code",
      "execution_count": null,
      "metadata": {
        "id": "x-jrgnbQyR2s"
      },
      "outputs": [],
      "source": [
        "def create_transforms(image_size: int = 112, augment: bool = True) -> T.Compose:\n",
        "    \"\"\"Create transform pipeline for face recognition.\"\"\"\n",
        "\n",
        "    # Step 1: Basic transformations\n",
        "    transform_list = [\n",
        "        # Resize the image to the desired size (image_size x image_size)\n",
        "        T.Resize((image_size, image_size)),\n",
        "\n",
        "        # Convert PIL Image to tensor\n",
        "        T.ToTensor(),\n",
        "\n",
        "        # Convert image to float32 and scale the pixel values to [0, 1]\n",
        "        T.ToDtype(torch.float32, scale=True),\n",
        "    ]\n",
        "\n",
        "    # Step 2: Data augmentation (optional, based on `augment` argument)\n",
        "    if augment:  # This block will be executed if `augment=True`\n",
        "        # TODO: Add transformations for data augmentation (e.g., random horizontal flip, rotation, etc.)\n",
        "        # HINT: What transforms help faces look more varied?\n",
        "        # Think: Does a horizontally flipped face still look like the same person?\n",
        "        # What about small rotations or color changes?\n",
        "        # Example:\n",
        "        transform_list.extend([\n",
        "            # Your transforms here\n",
        "        ])\n",
        "\n",
        "    # Step 3: Standard normalization for image recognition tasks\n",
        "    # The Normalize transformation requires mean and std values for each channel (R, G, B).\n",
        "    # Here, we are normalizing the pixel values to have a mean of 0.5 and std of 0.5 for each channel.\n",
        "    transform_list.extend([\n",
        "        T.Normalize([0.5, 0.5, 0.5], [0.5, 0.5, 0.5])  # Standard mean and std for face recognition tasks\n",
        "    ])\n",
        "\n",
        "    # Return the composed transformation pipeline\n",
        "    return T.Compose(transform_list)\n"
      ]
    },
    {
      "cell_type": "markdown",
      "metadata": {
        "id": "ZzxNNzGe8ccB"
      },
      "source": [
        "## Classification Datasets and Dataloaders"
      ]
    },
    {
      "cell_type": "code",
      "execution_count": null,
      "metadata": {
        "id": "p6Nn57B-7F-i"
      },
      "outputs": [],
      "source": [
        "class ImageDataset(torch.utils.data.Dataset):\n",
        "    \"\"\"Custom dataset for loading image-label pairs.\"\"\"\n",
        "    def __init__(self, root, transform, num_classes=config['num_classes']):\n",
        "        \"\"\"\n",
        "        Args:\n",
        "            root (str): Path to the directory containing the images folder.\n",
        "            transform (callable): Transform to be applied to the images.\n",
        "            num_classes (int, optional): Number of classes to keep. If None, keep all classes.\n",
        "        \"\"\"\n",
        "        self.root = root\n",
        "        self.labels_file = os.path.join(self.root, \"labels.txt\")\n",
        "        self.transform = transform\n",
        "        self.image_paths = []\n",
        "        self.labels = []\n",
        "        self.classes = set()\n",
        "\n",
        "        # Read image-label pairs from the file\n",
        "        with open(self.labels_file, 'r') as f:\n",
        "            lines = f.readlines()\n",
        "\n",
        "        lines = sorted(lines, key=lambda x: int(x.strip().split(' ')[-1]))\n",
        "\n",
        "        # Get all unique labels first\n",
        "        all_labels = sorted(set(int(line.strip().split(' ')[1]) for line in lines))\n",
        "\n",
        "         # Select subset of classes if specified\n",
        "        if num_classes is not None:\n",
        "            selected_classes = set(all_labels[:num_classes])\n",
        "        else:\n",
        "            selected_classes = set(all_labels)\n",
        "\n",
        "        # Store image paths and labels with a progress bar\n",
        "        for line in tqdm(lines, desc=\"Loading dataset\"):\n",
        "            img_path, label = line.strip().split(' ')\n",
        "            label = int(label)\n",
        "\n",
        "            # Only add if label is in selected classes\n",
        "            if label in selected_classes:\n",
        "                self.image_paths.append(os.path.join(self.root, 'images', img_path))\n",
        "                self.labels.append(label)\n",
        "                self.classes.add(label)\n",
        "\n",
        "        assert len(self.image_paths) == len(self.labels), \"Images and labels mismatch!\"\n",
        "\n",
        "        # Convert classes to a sorted list\n",
        "        self.classes = sorted(self.classes)\n",
        "\n",
        "    def __len__(self):\n",
        "        \"\"\"Returns the total number of samples.\"\"\"\n",
        "        return len(self.image_paths)\n",
        "\n",
        "    def __getitem__(self, idx):\n",
        "        \"\"\"\n",
        "        Args:\n",
        "            idx (int): Index of the sample to retrieve.\n",
        "\n",
        "        Returns:\n",
        "            tuple: (transformed image, label)\n",
        "        \"\"\"\n",
        "        # Load and transform image on-the-fly\n",
        "        image = Image.open(self.image_paths[idx]).convert('RGB')\n",
        "        image = self.transform(image)\n",
        "        label = self.labels[idx]\n",
        "        return image, label\n",
        "\n",
        "gc.collect()"
      ]
    },
    {
      "cell_type": "code",
      "execution_count": null,
      "metadata": {
        "id": "f3d1tsYE0pb-"
      },
      "outputs": [],
      "source": [
        "# train transforms\n",
        "train_transforms = create_transforms(augment=config['augument'])\n",
        "\n",
        "# val transforms\n",
        "val_transforms   = create_transforms(augment=False)"
      ]
    },
    {
      "cell_type": "code",
      "execution_count": null,
      "metadata": {
        "id": "GOJOrQLX02Gh"
      },
      "outputs": [],
      "source": [
        "# Datasets\n",
        "cls_train_dataset = #TODO\n",
        "# HINT: What dataset class do you use? What folder has your training data?\n",
        "# What transforms should training data use?\n",
        "\n",
        "cls_val_dataset   = #TODO\n",
        "# HINT: Same dataset class, but what folder for validation?\n",
        "# Should validation use augmentation transforms?\n",
        "\n",
        "cls_test_dataset  = #TODO\n",
        "# HINT: What's the pattern here? What folder contains test data?\n",
        "\n",
        "assert cls_train_dataset.classes == cls_val_dataset.classes == cls_test_dataset.classes, \"Class mismatch!\"\n",
        "\n",
        "\n",
        "# Dataloaders\n",
        "cls_train_loader = DataLoader(cls_train_dataset, batch_size=config['batch_size'], shuffle=True,  num_workers=4, pin_memory=True)\n",
        "cls_val_loader   = DataLoader(cls_val_dataset,   batch_size=config['batch_size'], shuffle=False, num_workers=4, pin_memory=True)\n",
        "cls_test_loader  = DataLoader(cls_test_dataset,  batch_size=config['batch_size'], shuffle=False, num_workers=4, pin_memory=True)"
      ]
    },
    {
      "cell_type": "markdown",
      "metadata": {
        "id": "mPSk8DyK8htk"
      },
      "source": [
        "## Verification Dataset and Datatloaders"
      ]
    },
    {
      "cell_type": "code",
      "execution_count": null,
      "metadata": {
        "id": "KBleUieO8lwG"
      },
      "outputs": [],
      "source": [
        "class ImagePairDataset(torch.utils.data.Dataset):\n",
        "    \"\"\"Custom dataset for loading and transforming image pairs.\"\"\"\n",
        "    def __init__(self, root, pairs_file, transform):\n",
        "        \"\"\"\n",
        "        Args:\n",
        "            root (str): Path to the directory containing the images.\n",
        "            pairs_file (str): Path to the file containing image pairs and match labels.\n",
        "            transform (callable): Transform to be applied to the images.\n",
        "        \"\"\"\n",
        "        self.root      = root\n",
        "        self.transform = transform\n",
        "\n",
        "        self.matches     = []\n",
        "        self.image1_list = []\n",
        "        self.image2_list = []\n",
        "\n",
        "        # Read and load image pairs and match labels\n",
        "        with open(pairs_file, 'r') as f:\n",
        "            lines = f.readlines()\n",
        "\n",
        "        for line in tqdm(lines, desc=\"Loading image pairs\"):\n",
        "            img_path1, img_path2, match = line.strip().split(' ')\n",
        "            img1 = Image.open(os.path.join(self.root, img_path1)).convert('RGB')\n",
        "            img2 = Image.open(os.path.join(self.root, img_path2)).convert('RGB')\n",
        "\n",
        "            self.image1_list.append(img1)\n",
        "            self.image2_list.append(img2)\n",
        "            self.matches.append(int(match))  # Convert match to integer\n",
        "\n",
        "        assert len(self.image1_list) == len(self.image2_list) == len(self.matches), \"Image pair mismatch\"\n",
        "\n",
        "    def __len__(self):\n",
        "        \"\"\"Returns the total number of samples.\"\"\"\n",
        "        return len(self.image1_list)\n",
        "\n",
        "    def __getitem__(self, idx):\n",
        "        \"\"\"\n",
        "        Args:\n",
        "            idx (int): Index of the sample to retrieve.\n",
        "\n",
        "        Returns:\n",
        "            tuple: (transformed image1, transformed image2, match label)\n",
        "        \"\"\"\n",
        "        img1 = self.image1_list[idx]\n",
        "        img2 = self.image2_list[idx]\n",
        "        match = self.matches[idx]\n",
        "        return self.transform(img1), self.transform(img2), match\n"
      ]
    },
    {
      "cell_type": "code",
      "execution_count": null,
      "metadata": {
        "id": "BxXF96_Ys8os"
      },
      "outputs": [],
      "source": [
        "class TestImagePairDataset(torch.utils.data.Dataset):\n",
        "    \"\"\"Custom dataset for loading and transforming image pairs.\"\"\"\n",
        "    def __init__(self, root, pairs_file, transform):\n",
        "        \"\"\"\n",
        "        Args:\n",
        "            root (str): Path to the directory containing the images.\n",
        "            pairs_file (str): Path to the file containing image pairs and match labels.\n",
        "            transform (callable): Transform to be applied to the images.\n",
        "        \"\"\"\n",
        "        self.root      = root\n",
        "        self.transform = transform\n",
        "\n",
        "        self.image1_list = []\n",
        "        self.image2_list = []\n",
        "\n",
        "        # Read and load image pairs and match labels\n",
        "        with open(pairs_file, 'r') as f:\n",
        "            lines = f.readlines()\n",
        "\n",
        "        for line in tqdm(lines, desc=\"Loading image pairs\"):\n",
        "            img_path1, img_path2 = line.strip().split(' ')\n",
        "            img1 = Image.open(os.path.join(self.root, img_path1)).convert('RGB')\n",
        "            img2 = Image.open(os.path.join(self.root, img_path2)).convert('RGB')\n",
        "\n",
        "            self.image1_list.append(img1)\n",
        "            self.image2_list.append(img2)\n",
        "\n",
        "        assert len(self.image1_list) == len(self.image2_list), \"Image pair mismatch\"\n",
        "\n",
        "    def __len__(self):\n",
        "        \"\"\"Returns the total number of samples.\"\"\"\n",
        "        return len(self.image1_list)\n",
        "\n",
        "    def __getitem__(self, idx):\n",
        "        \"\"\"\n",
        "        Args:\n",
        "            idx (int): Index of the sample to retrieve.\n",
        "\n",
        "        Returns:\n",
        "            tuple: (transformed image1, transformed image2, match label)\n",
        "        \"\"\"\n",
        "        img1 = self.image1_list[idx]\n",
        "        img2 = self.image2_list[idx]\n",
        "        return self.transform(img1), self.transform(img2)\n"
      ]
    },
    {
      "cell_type": "code",
      "execution_count": null,
      "metadata": {
        "id": "-ALvOc6L2r3d"
      },
      "outputs": [],
      "source": [
        "# Datasets\n",
        "ver_val_dataset  = #TODO\n",
        "# HINT: What dataset class handles image pairs? What file lists the validation pairs?\n",
        "\n",
        "ver_test_dataset = #TODO\n",
        "# HINT: Same class, but what file has test pairs? Does it include labels?\n",
        "\n",
        "# Dataloader\n",
        "ver_val_loader   = DataLoader(ver_val_dataset,  batch_size=config['batch_size'], shuffle=False, num_workers=8, pin_memory=True)\n",
        "ver_test_loader  = DataLoader(ver_test_dataset, batch_size=config['batch_size'], shuffle=False, num_workers=8, pin_memory=True)\n"
      ]
    },
    {
      "cell_type": "markdown",
      "metadata": {
        "id": "2j24TXNo9P97"
      },
      "source": [
        "## Create Dataloaders for Image Recognition"
      ]
    },
    {
      "cell_type": "markdown",
      "metadata": {
        "id": "436KzM6u-3A2"
      },
      "source": [
        "# EDA and Viz"
      ]
    },
    {
      "cell_type": "code",
      "execution_count": null,
      "metadata": {
        "id": "AhnoHopx-0RB"
      },
      "outputs": [],
      "source": [
        "# Double-check your dataset/dataloaders work as expected\n",
        "\n",
        "print(\"Number of classes    : \", len(cls_train_dataset.classes))\n",
        "print(\"No. of train images  : \", cls_train_dataset.__len__())\n",
        "print(\"Shape of image       : \", cls_train_dataset[0][0].shape)\n",
        "print(\"Batch size           : \", config['batch_size'])\n",
        "print(\"Train batches        : \", cls_train_loader.__len__())\n",
        "print(\"Val batches          : \", cls_val_loader.__len__())\n",
        "\n",
        "# Feel free to print more things if needed"
      ]
    },
    {
      "cell_type": "markdown",
      "metadata": {
        "id": "niSJ49lzpHgW"
      },
      "source": [
        "###Classification Dataset Viz"
      ]
    },
    {
      "cell_type": "code",
      "execution_count": null,
      "metadata": {
        "id": "fK3t65VU5Qlz"
      },
      "outputs": [],
      "source": [
        "def show_cls_dataset_samples(train_loader, val_loader, test_loader, samples_per_set=8, figsize=(10, 6)):\n",
        "    \"\"\"\n",
        "    Display samples from train, validation, and test datasets side by side\n",
        "\n",
        "    Args:\n",
        "        train_loader: Training data loader\n",
        "        val_loader: Validation data loader\n",
        "        test_loader: Test data loader\n",
        "        samples_per_set: Number of samples to show from each dataset\n",
        "        figsize: Figure size (width, height)\n",
        "    \"\"\"\n",
        "    def denormalize(x):\n",
        "        \"\"\"Denormalize images from [-1, 1] to [0, 1]\"\"\"\n",
        "        return x * 0.5 + 0.5\n",
        "\n",
        "    def get_samples(loader, n):\n",
        "        \"\"\"Get n samples from a dataloader\"\"\"\n",
        "        batch = next(iter(loader))\n",
        "        return batch[0][:n], batch[1][:n]\n",
        "\n",
        "    # Get samples from each dataset\n",
        "    train_imgs, train_labels = get_samples(train_loader, samples_per_set)\n",
        "    val_imgs, val_labels = get_samples(val_loader, samples_per_set)\n",
        "    test_imgs, test_labels = get_samples(test_loader, samples_per_set)\n",
        "\n",
        "    # Create figure\n",
        "    fig, axes = plt.subplots(3, 1, figsize=figsize)\n",
        "\n",
        "    # Plot each dataset\n",
        "    for idx, (imgs, labels, title) in enumerate([\n",
        "        (train_imgs, train_labels, 'Training Samples'),\n",
        "        (val_imgs, val_labels, 'Validation Samples'),\n",
        "        (test_imgs, test_labels, 'Test Samples')\n",
        "    ]):\n",
        "\n",
        "        # Create grid of images\n",
        "        grid = make_grid(denormalize(imgs), nrow=8, padding=2)\n",
        "\n",
        "        # Display grid\n",
        "        axes[idx].imshow(grid.permute(1, 2, 0).cpu())\n",
        "        axes[idx].axis('off')\n",
        "        axes[idx].set_title(title, fontsize=10)\n",
        "\n",
        "        # Add class labels below images (with smaller font)\n",
        "        grid_width = grid.shape[2]\n",
        "        imgs_per_row = min(8, samples_per_set)\n",
        "        img_width = grid_width // imgs_per_row\n",
        "\n",
        "        for i, label in enumerate(labels):\n",
        "            col = i % imgs_per_row  # Calculate column position\n",
        "            if label<len(train_loader.dataset.classes):\n",
        "              class_name = train_loader.dataset.classes[label]\n",
        "            else:\n",
        "              class_name = f\"Class {label} (Unknown)\"\n",
        "            axes[idx].text(col * img_width + img_width/2,\n",
        "                         grid.shape[1] + 5,\n",
        "                         class_name,\n",
        "                         ha='center',\n",
        "                         va='top',\n",
        "                         fontsize=6,\n",
        "                         rotation=45)\n",
        "\n",
        "    plt.tight_layout()\n",
        "    plt.show()\n",
        "\n",
        "show_cls_dataset_samples(cls_train_loader, cls_val_loader, cls_test_loader)"
      ]
    },
    {
      "cell_type": "markdown",
      "metadata": {
        "id": "KZPVGXOu59Wh"
      },
      "source": [
        "###Ver Dataset Viz"
      ]
    },
    {
      "cell_type": "code",
      "execution_count": null,
      "metadata": {
        "id": "6pBN7Z9K5iAM"
      },
      "outputs": [],
      "source": [
        "import matplotlib.pyplot as plt\n",
        "import torch\n",
        "from torchvision.utils import make_grid\n",
        "\n",
        "def show_ver_dataset_samples(val_loader, samples_per_set=4, figsize=(12, 8)):\n",
        "    \"\"\"\n",
        "    Display verification pairs from the validation dataset\n",
        "\n",
        "    Args:\n",
        "        val_loader: Validation data loader\n",
        "        samples_per_set: Number of pairs to show from the dataset\n",
        "        figsize: Figure size (width, height)\n",
        "    \"\"\"\n",
        "    def denormalize(x):\n",
        "        \"\"\"Denormalize images from [-1, 1] to [0, 1]\"\"\"\n",
        "        return x * 0.5 + 0.5\n",
        "\n",
        "    def get_samples(loader, n):\n",
        "        \"\"\"Get n samples from a dataloader\"\"\"\n",
        "        batch = next(iter(loader))\n",
        "        return batch[0][:n], batch[1][:n], batch[2][:n]\n",
        "\n",
        "    # Get samples from the validation dataset\n",
        "    val_imgs1, val_imgs2, val_labels = get_samples(val_loader, samples_per_set)\n",
        "\n",
        "    # Create figure and axis\n",
        "    fig, ax = plt.subplots(1, 1, figsize=figsize)\n",
        "\n",
        "    # Create grids for both images in each pair\n",
        "    grid1 = make_grid(denormalize(val_imgs1), nrow=samples_per_set, padding=2)\n",
        "    grid2 = make_grid(denormalize(val_imgs2), nrow=samples_per_set, padding=2)\n",
        "\n",
        "    # Combine the grids vertically\n",
        "    combined_grid = torch.cat([grid1, grid2], dim=1)\n",
        "\n",
        "    # Display the combined grid\n",
        "    ax.imshow(combined_grid.permute(1, 2, 0).cpu())\n",
        "    ax.axis('off')\n",
        "    ax.set_title('Validation Pairs', fontsize=10)\n",
        "\n",
        "    # Determine dimensions for placing the labels\n",
        "    grid_width = grid1.shape[2]\n",
        "    img_width = grid_width // samples_per_set\n",
        "\n",
        "    # Add match/non-match labels for each pair\n",
        "    for i, label in enumerate(val_labels):\n",
        "        match_text = \"✓ Match\" if label == 1 else \"✗ Non-match\"\n",
        "        color = 'green' if label == 1 else 'red'\n",
        "\n",
        "        # Define a background box for the label\n",
        "        bbox_props = dict(\n",
        "            boxstyle=\"round,pad=0.3\",\n",
        "            fc=\"white\",\n",
        "            ec=color,\n",
        "            alpha=0.8\n",
        "        )\n",
        "\n",
        "        ax.text(i * img_width + img_width / 2,\n",
        "                combined_grid.shape[1] + 15,  # Position below the images\n",
        "                match_text,\n",
        "                ha='center',\n",
        "                va='top',\n",
        "                fontsize=8,\n",
        "                color=color,\n",
        "                bbox=bbox_props)\n",
        "\n",
        "    plt.suptitle(\"Verification Pairs (Top: Image 1, Bottom: Image 2)\", y=1.02)\n",
        "    plt.tight_layout()\n",
        "    plt.subplots_adjust(bottom=0.05)\n",
        "    plt.show()\n",
        "\n",
        "show_ver_dataset_samples(ver_val_loader)\n"
      ]
    },
    {
      "cell_type": "markdown",
      "metadata": {
        "id": "y3TUocDw_JU_"
      },
      "source": [
        "# Model Architecture"
      ]
    },
    {
      "cell_type": "markdown",
      "metadata": {
        "id": "B4pZEjs2peC4"
      },
      "source": [
        "FAQ:\n",
        "\n",
        "**What's a very low early deadline architecture (mandatory early submission)**?\n",
        "\n",
        "- The very low early deadline architecture is a 5-layer CNN. Keep in mind the parameter limit for this homework is 30M.\n",
        "- The first convolutional layer has 64 channels, kernel size 7, and stride 4. The next three have 128, 256, 512 and 1024 channels. Each have kernel size 3 and stride 2. Documentation to make convolutional layers: https://pytorch.org/docs/stable/generated/torch.nn.Conv2d.html\n",
        "- Think about strided convolutions from the lecture, as convolutions with stride = 1 and downsampling. For strided convolution, what padding do you need for preserving the spatial resolution? (Hint => padding = kernel_size // 2) - Think why?\n",
        "- Each convolutional layer is accompanied by a Batchnorm and ReLU layer.\n",
        "- Finally, you want to average pool over the spatial dimensions to reduce them to 1 x 1. Use AdaptiveAvgPool2d. Documentation for AdaptiveAvgPool2d: https://pytorch.org/docs/stable/generated/torch.nn.AdaptiveAvgPool2d.html\n",
        "- Then, remove (Flatten?) these trivial 1x1 dimensions away.\n",
        "Look through https://pytorch.org/docs/stable/nn.html\n",
        "\n",
        "\n",
        "**Why does a very simple network have 4 convolutions**?\n",
        "\n",
        "Input images are 112x112. Note that each of these convolutions downsample. Downsampling 2x effectively doubles the receptive field, increasing the spatial region each pixel extracts features from. Downsampling 32x is standard for most image models.\n",
        "\n",
        "**Why does a very simple network have high channel sizes**?\n",
        "\n",
        "Every time you downsample 2x, you do 4x less computation (at same channel size). To maintain the same level of computation, you 2x increase # of channels, which increases computation by 4x. So, balances out to same computation. Another intuition is - as you downsample, you lose spatial information. We want to preserve some of it in the channel dimension.\n",
        "\n",
        "**What is return_feats?**\n",
        "\n",
        "It essentially returns the second-to-last-layer features of a given image. It's a \"feature encoding\" of the input image, and you can use it for the verification task. You would use the outputs of the final classification layer for the classification task. You might also find that the classification outputs are sometimes better for verification too - try both."
      ]
    },
    {
      "cell_type": "code",
      "execution_count": null,
      "metadata": {
        "id": "4LLX2Rki_LzA"
      },
      "outputs": [],
      "source": [
        "# TODO: Fill out the model definition below\n",
        "\n",
        "class Network(torch.nn.Module):\n",
        "\n",
        "    def __init__(self, num_classes):\n",
        "        super().__init__()\n",
        "\n",
        "        self.backbone = torch.nn.Sequential(\n",
        "\n",
        "            # TODO: Implement 5-layer CNN as described in FAQ for early submission\n",
        "\n",
        "            )\n",
        "\n",
        "        self.cls_layer = #TODO Final classification layer\n",
        "\n",
        "    def forward(self, x):\n",
        "\n",
        "        feats = self.backbone(x)\n",
        "        out = self.cls_layer(feats)\n",
        "\n",
        "        return {\"feats\": feats, \"out\": out}\n",
        "\n",
        "# Initialize your model\n",
        "model = Network(num_classes=config['num_classes']).to(DEVICE)\n",
        "summary(model, (3, 112, 112))"
      ]
    },
    {
      "cell_type": "code",
      "execution_count": null,
      "metadata": {
        "id": "pDP--pND_3Vy"
      },
      "outputs": [],
      "source": [
        "# --------------------------------------------------- #\n",
        "\n",
        "# Defining Loss function\n",
        "criterion = # TODO: What loss do you need for a multi class classification problem and would label smoothing be beneficial here?\n",
        "\n",
        "# --------------------------------------------------- #\n",
        "\n",
        "# Defining Optimizer\n",
        "optimizer =  # TODO: Feel free to pick a optimizer\n",
        "\n",
        "# --------------------------------------------------- #\n",
        "\n",
        "# Defining Scheduler\n",
        "scheduler = None# TODO: Use a good scheduler such as ReduceLRonPlateau, StepLR, MultistepLR, CosineAnnealing, etc.\n",
        "\n",
        "# --------------------------------------------------- #\n",
        "\n",
        "# Initialising mixed-precision training. # Good news. We've already implemented FP16 (Mixed precision training) for you\n",
        "# It is useful only in the case of compatible GPUs such as T4/V100\n",
        "scaler = torch.cuda.amp.GradScaler()"
      ]
    },
    {
      "cell_type": "markdown",
      "metadata": {
        "id": "-d5ZDQfpw7gR"
      },
      "source": [
        "# Metrics"
      ]
    },
    {
      "cell_type": "code",
      "execution_count": null,
      "metadata": {
        "id": "7Ecg0J2sw9jJ"
      },
      "outputs": [],
      "source": [
        "class AverageMeter:\n",
        "    \"\"\"Computes and stores the average and current value\"\"\"\n",
        "    def __init__(self):\n",
        "        self.reset()\n",
        "\n",
        "    def reset(self):\n",
        "        self.val = 0\n",
        "        self.avg = 0\n",
        "        self.sum = 0\n",
        "        self.count = 0\n",
        "\n",
        "    def update(self, val, n=1):\n",
        "        self.val = val\n",
        "        self.sum += val * n\n",
        "        self.count += n\n",
        "        self.avg = self.sum / self.count"
      ]
    },
    {
      "cell_type": "code",
      "execution_count": null,
      "metadata": {
        "id": "TqVw0ab0xBKT"
      },
      "outputs": [],
      "source": [
        "def accuracy(output, target, topk=(1,)):\n",
        "    \"\"\"Computes the accuracy over the k top predictions for the specified values of k\"\"\"\n",
        "    maxk = min(max(topk), output.size()[1])\n",
        "    batch_size = target.size(0)\n",
        "    _, pred = output.topk(maxk, 1, True, True)\n",
        "    pred = pred.t()\n",
        "    correct = pred.eq(target.reshape(1, -1).expand_as(pred))\n",
        "    return [correct[:min(k, maxk)].reshape(-1).float().sum(0) * 100. / batch_size for k in topk]"
      ]
    },
    {
      "cell_type": "code",
      "execution_count": null,
      "metadata": {
        "id": "uNCQjz2RxD5S"
      },
      "outputs": [],
      "source": [
        "def get_ver_metrics(labels, scores, FPRs):\n",
        "    # eer and auc\n",
        "    fpr, tpr, _ = mt.roc_curve(labels, scores, pos_label=1)\n",
        "    roc_curve = interp1d(fpr, tpr)\n",
        "    EER = 100. * brentq(lambda x : 1. - x - roc_curve(x), 0., 1.)\n",
        "    AUC = 100. * mt.auc(fpr, tpr)\n",
        "\n",
        "    # get acc\n",
        "    tnr = 1. - fpr\n",
        "    pos_num = labels.count(1)\n",
        "    neg_num = labels.count(0)\n",
        "    ACC = 100. * max(tpr * pos_num + tnr * neg_num) / len(labels)\n",
        "\n",
        "    # TPR @ FPR\n",
        "    if isinstance(FPRs, list):\n",
        "        TPRs = [\n",
        "            ('TPR@FPR={}'.format(FPR), 100. * roc_curve(float(FPR)))\n",
        "            for FPR in FPRs\n",
        "        ]\n",
        "    else:\n",
        "        TPRs = []\n",
        "\n",
        "    return {\n",
        "        'ACC': ACC,\n",
        "        'EER': EER,\n",
        "        'AUC': AUC,\n",
        "        'TPRs': TPRs,\n",
        "    }"
      ]
    },
    {
      "cell_type": "markdown",
      "metadata": {
        "id": "juUbZnP0AEUi"
      },
      "source": [
        "# Train and Validation Function"
      ]
    },
    {
      "cell_type": "code",
      "execution_count": null,
      "metadata": {
        "id": "IMnxvQT-AHsu"
      },
      "outputs": [],
      "source": [
        "def train_epoch(model, dataloader, optimizer, lr_scheduler, scaler, device, config):\n",
        "\n",
        "    model.train()\n",
        "\n",
        "    # metric meters\n",
        "    loss_m = AverageMeter()\n",
        "    acc_m = AverageMeter()\n",
        "\n",
        "    # Progress Bar\n",
        "    batch_bar = tqdm(total=len(dataloader), dynamic_ncols=True, leave=False, position=0, desc='Train', ncols=5)\n",
        "\n",
        "    for i, (images, labels) in enumerate(dataloader):\n",
        "\n",
        "        optimizer.zero_grad() # Zero gradients\n",
        "\n",
        "        # send to cuda\n",
        "        images = images.to(device, non_blocking=True)\n",
        "        if isinstance(labels, (tuple, list)):\n",
        "            targets1, targets2, lam = labels\n",
        "            labels = (targets1.to(device), targets2.to(device), lam)\n",
        "        else:\n",
        "            labels = labels.to(device, non_blocking=True)\n",
        "\n",
        "        # forward\n",
        "        with torch.cuda.amp.autocast():  # This implements mixed precision. Thats it!\n",
        "            outputs = model(images)\n",
        "\n",
        "            # Use the type of output depending on the loss function you want to use\n",
        "            loss = criterion(outputs['out'], labels)\n",
        "\n",
        "        scaler.scale(loss).backward() # This is a replacement for loss.backward()\n",
        "        scaler.step(optimizer) # This is a replacement for optimizer.step()\n",
        "        scaler.update()\n",
        "        # metrics\n",
        "        loss_m.update(loss.item())\n",
        "        if 'feats' in outputs:\n",
        "            acc = accuracy(outputs['out'], labels)[0].item()\n",
        "        else:\n",
        "            acc = 0.0\n",
        "        acc_m.update(acc)\n",
        "\n",
        "        # tqdm lets you add some details so you can monitor training as you train.\n",
        "        batch_bar.set_postfix(\n",
        "            # acc         = \"{:.04f}%\".format(100*accuracy),\n",
        "            acc=\"{:.04f}% ({:.04f})\".format(acc, acc_m.avg),\n",
        "            loss        = \"{:.04f} ({:.04f})\".format(loss.item(), loss_m.avg),\n",
        "            lr          = \"{:.04f}\".format(float(optimizer.param_groups[0]['lr'])))\n",
        "\n",
        "        batch_bar.update() # Update tqdm bar\n",
        "\n",
        "    # You may want to call some schedulers inside the train function. What are these?\n",
        "    if lr_scheduler is not None:\n",
        "        lr_scheduler.step()\n",
        "\n",
        "    batch_bar.close()\n",
        "\n",
        "    return acc_m.avg, loss_m.avg"
      ]
    },
    {
      "cell_type": "code",
      "execution_count": null,
      "metadata": {
        "id": "5qkdH295wNUX"
      },
      "outputs": [],
      "source": [
        "@torch.no_grad()\n",
        "def valid_epoch_cls(model, dataloader, device, config):\n",
        "\n",
        "    model.eval()\n",
        "    batch_bar = tqdm(total=len(dataloader), dynamic_ncols=True, position=0, leave=False, desc='Val Cls.', ncols=5)\n",
        "\n",
        "    # metric meters\n",
        "    loss_m = AverageMeter()\n",
        "    acc_m = AverageMeter()\n",
        "\n",
        "    for i, (images, labels) in enumerate(dataloader):\n",
        "\n",
        "        # Move images to device\n",
        "        images, labels = images.to(device), labels.to(device)\n",
        "\n",
        "        # Get model outputs\n",
        "        with torch.inference_mode():\n",
        "            outputs = model(images)\n",
        "            loss = criterion(outputs['out'], labels)\n",
        "\n",
        "        # metrics\n",
        "        acc = accuracy(outputs['out'], labels)[0].item()\n",
        "        loss_m.update(loss.item())\n",
        "        acc_m.update(acc)\n",
        "\n",
        "        batch_bar.set_postfix(\n",
        "            acc         = \"{:.04f}% ({:.04f})\".format(acc, acc_m.avg),\n",
        "            loss        = \"{:.04f} ({:.04f})\".format(loss.item(), loss_m.avg))\n",
        "\n",
        "        batch_bar.update()\n",
        "\n",
        "    batch_bar.close()\n",
        "    return acc_m.avg, loss_m.avg"
      ]
    },
    {
      "cell_type": "code",
      "execution_count": null,
      "metadata": {
        "id": "-Yan5vLDyj-3"
      },
      "outputs": [],
      "source": [
        "gc.collect() # These commands help you when you face CUDA OOM error\n",
        "torch.cuda.empty_cache()"
      ]
    },
    {
      "cell_type": "markdown",
      "metadata": {
        "id": "0q1gRMAsyknz"
      },
      "source": [
        "# Verification Task"
      ]
    },
    {
      "cell_type": "code",
      "execution_count": null,
      "metadata": {
        "id": "SSGeDCi-wa1W"
      },
      "outputs": [],
      "source": [
        "def valid_epoch_ver(model, pair_data_loader, device, config):\n",
        "\n",
        "    model.eval()\n",
        "    scores = []\n",
        "    match_labels = []\n",
        "    batch_bar = tqdm(total=len(pair_data_loader), dynamic_ncols=True, position=0, leave=False, desc='Val Veri.')\n",
        "    for i, (images1, images2, labels) in enumerate(pair_data_loader):\n",
        "\n",
        "        # match_labels = match_labels.to(device)\n",
        "        images = torch.cat([images1, images2], dim=0).to(device)\n",
        "        # Get model outputs\n",
        "        with torch.inference_mode():\n",
        "            outputs = model(images)\n",
        "\n",
        "        feats = F.normalize(outputs['feats'], dim=1)\n",
        "        feats1, feats2 = feats.chunk(2)\n",
        "        similarity = F.cosine_similarity(feats1, feats2)\n",
        "        scores.append(similarity.cpu().numpy())\n",
        "        match_labels.append(labels.cpu().numpy())\n",
        "        batch_bar.update()\n",
        "\n",
        "    scores = np.concatenate(scores)\n",
        "    match_labels = np.concatenate(match_labels)\n",
        "\n",
        "    FPRs=['1e-4', '5e-4', '1e-3', '5e-3', '5e-2']\n",
        "    metric_dict = get_ver_metrics(match_labels.tolist(), scores.tolist(), FPRs)\n",
        "    print(metric_dict)\n",
        "\n",
        "    return metric_dict['ACC']"
      ]
    },
    {
      "cell_type": "markdown",
      "metadata": {
        "id": "piblCbe5yotj"
      },
      "source": [
        "# WandB"
      ]
    },
    {
      "cell_type": "code",
      "execution_count": null,
      "metadata": {
        "id": "HTIkCXBQyoM0"
      },
      "outputs": [],
      "source": [
        "wandb.login(key=\"replace with your API key here\") # API Key is in your wandb account, under settings (wandb.ai/settings)"
      ]
    },
    {
      "cell_type": "code",
      "execution_count": null,
      "metadata": {
        "id": "GLNNqwV4ysNP"
      },
      "outputs": [],
      "source": [
        "# Create your wandb run\n",
        "run = wandb.init(\n",
        "    name = \"early-submission\", ## Wandb creates random run names if you skip this field\n",
        "    reinit = True, ### Allows reinitalizing runs when you re-run this cell\n",
        "    # run_id = ### Insert specific run id here if you want to resume a previous run\n",
        "    # resume = \"must\" ### You need this to resume previous runs, but comment out reinit = True when using this\n",
        "    project = \"hw2p2-ablations\", ### Project should be created in your wandb account\n",
        "    config = config ### Wandb Config for your run\n",
        ")"
      ]
    },
    {
      "cell_type": "markdown",
      "metadata": {
        "id": "t0RrtpFKzH3k"
      },
      "source": [
        "# Checkpointing and Loading Model"
      ]
    },
    {
      "cell_type": "code",
      "execution_count": null,
      "metadata": {
        "id": "O1gbAkMtlWHk"
      },
      "outputs": [],
      "source": [
        "import os\n",
        "checkpoint_dir = config['checkpoint_dir']\n",
        "\n",
        "# Create the directory if it doesn't exist\n",
        "os.makedirs(checkpoint_dir, exist_ok=True)"
      ]
    },
    {
      "cell_type": "code",
      "execution_count": null,
      "metadata": {
        "id": "dDFmC8hpzLOq"
      },
      "outputs": [],
      "source": [
        "def save_model(model, optimizer, scheduler, metrics, epoch, path):\n",
        "    torch.save(\n",
        "        {'model_state_dict'         : model.state_dict(),\n",
        "         'optimizer_state_dict'     : optimizer.state_dict(),\n",
        "         'scheduler_state_dict'     : scheduler.state_dict(),\n",
        "         'metric'                   : metrics,\n",
        "         'epoch'                    : epoch},\n",
        "         path)\n",
        "\n",
        "\n",
        "def load_model(model, optimizer=None, scheduler=None, path='./checkpoint.pth'):\n",
        "    checkpoint = torch.load(path)\n",
        "    model.load_state_dict(checkpoint['model_state_dict'])\n",
        "    if optimizer is not None:\n",
        "        optimizer.load_state_dict(checkpoint['optimizer_state_dict'])\n",
        "    else:\n",
        "        optimizer = None\n",
        "    if scheduler is not None:\n",
        "        scheduler.load_state_dict(checkpoint['scheduler_state_dict'])\n",
        "    else:\n",
        "        scheduler = None\n",
        "    epoch = checkpoint['epoch']\n",
        "    metrics = checkpoint['metric']\n",
        "    return model, optimizer, scheduler, epoch, metrics"
      ]
    },
    {
      "cell_type": "markdown",
      "metadata": {
        "id": "wpFT7iriy5bi"
      },
      "source": [
        "# Experiments"
      ]
    },
    {
      "cell_type": "code",
      "execution_count": null,
      "metadata": {
        "id": "59FcCeJfy3Zm"
      },
      "outputs": [],
      "source": [
        "e = 0\n",
        "best_valid_cls_acc = 0.0\n",
        "eval_cls = True\n",
        "best_valid_ret_acc = 0.0\n",
        "for epoch in range(e, config['epochs']):\n",
        "        # epoch\n",
        "        print(\"\\nEpoch {}/{}\".format(epoch+1, config['epochs']))\n",
        "\n",
        "        # train\n",
        "        train_cls_acc, train_loss = train_epoch(model, cls_train_loader, optimizer, scheduler, scaler, DEVICE, config)\n",
        "        curr_lr = float(optimizer.param_groups[0]['lr'])\n",
        "        print(\"\\nEpoch {}/{}: \\nTrain Cls. Acc {:.04f}%\\t Train Cls. Loss {:.04f}\\t Learning Rate {:.04f}\".format(epoch + 1, config['epochs'], train_cls_acc, train_loss, curr_lr))\n",
        "        metrics = {\n",
        "            'train_cls_acc': train_cls_acc,\n",
        "            'train_loss': train_loss,\n",
        "        }\n",
        "        # classification validation\n",
        "        if eval_cls:\n",
        "            valid_cls_acc, valid_loss = valid_epoch_cls(model, cls_val_loader, DEVICE, config)\n",
        "            print(\"Val Cls. Acc {:.04f}%\\t Val Cls. Loss {:.04f}\".format(valid_cls_acc, valid_loss))\n",
        "            metrics.update({\n",
        "                'valid_cls_acc': valid_cls_acc,\n",
        "                'valid_loss': valid_loss,\n",
        "            })\n",
        "\n",
        "        # retrieval validation\n",
        "        valid_ret_acc = valid_epoch_ver(model, ver_val_loader, DEVICE, config)\n",
        "        print(\"Val Ret. Acc {:.04f}%\".format(valid_ret_acc))\n",
        "        metrics.update({\n",
        "            'valid_ret_acc': valid_ret_acc\n",
        "        })\n",
        "\n",
        "        # save model\n",
        "        save_model(model, optimizer, scheduler, metrics, epoch, os.path.join(config['checkpoint_dir'], 'last.pth'))\n",
        "        print(\"Saved epoch model\")\n",
        "\n",
        "        # save best model\n",
        "        if eval_cls:\n",
        "            if valid_cls_acc >= best_valid_cls_acc:\n",
        "                best_valid_cls_acc = valid_cls_acc\n",
        "                save_model(model, optimizer, scheduler, metrics, epoch, os.path.join(config['checkpoint_dir'], 'best_cls.pth'))\n",
        "                wandb.save(os.path.join(config['checkpoint_dir'], 'best_cls.pth'))\n",
        "                print(\"Saved best classification model\")\n",
        "\n",
        "        if valid_ret_acc >= best_valid_ret_acc:\n",
        "            best_valid_ret_acc = valid_ret_acc\n",
        "            save_model(model, optimizer, scheduler, metrics, epoch, os.path.join(config['checkpoint_dir'], 'best_ret.pth'))\n",
        "            wandb.save(os.path.join(config['checkpoint_dir'], 'best_ret.pth'))\n",
        "            print(\"Saved best retrieval model\")\n",
        "\n",
        "        # log to tracker\n",
        "        if run is not None:\n",
        "            run.log(metrics)"
      ]
    },
    {
      "cell_type": "markdown",
      "metadata": {
        "id": "VXLTfQjv0cCb"
      },
      "source": [
        "# Testing and Kaggle Submission"
      ]
    },
    {
      "cell_type": "code",
      "execution_count": null,
      "metadata": {
        "id": "XUAa3m2h0eCD"
      },
      "outputs": [],
      "source": [
        "def test_epoch_ver(model, pair_data_loader, config):\n",
        "\n",
        "    model.eval()\n",
        "    scores = []\n",
        "    batch_bar = tqdm(total=len(pair_data_loader), dynamic_ncols=True, position=0, leave=False, desc='Val Veri.')\n",
        "    for i, (images1, images2) in enumerate(pair_data_loader):\n",
        "\n",
        "        images = torch.cat([images1, images2], dim=0).to(DEVICE)\n",
        "        # Get model outputs\n",
        "        with torch.inference_mode():\n",
        "            outputs = model(images)\n",
        "\n",
        "        feats = F.normalize(outputs['feats'], dim=1)\n",
        "        feats1, feats2 = feats.chunk(2)\n",
        "        similarity = F.cosine_similarity(feats1, feats2)\n",
        "        scores.extend(similarity.cpu().numpy().tolist())\n",
        "        batch_bar.update()\n",
        "\n",
        "    return scores"
      ]
    },
    {
      "cell_type": "code",
      "execution_count": null,
      "metadata": {
        "id": "sZnuyzfD5xdS"
      },
      "outputs": [],
      "source": [
        "scores = test_epoch_ver(model, ver_test_loader, config)"
      ]
    },
    {
      "cell_type": "code",
      "execution_count": null,
      "metadata": {
        "id": "fOLRdaKZ50RQ"
      },
      "outputs": [],
      "source": [
        "with open(\"verification_early_submission.csv\", \"w+\") as f:\n",
        "    f.write(\"ID,Label\\n\")\n",
        "    for i in range(len(scores)):\n",
        "        f.write(\"{},{}\\n\".format(i, scores[i]))"
      ]
    },
    {
      "cell_type": "code",
      "execution_count": null,
      "metadata": {
        "id": "Gj8RkRXtAx3-"
      },
      "outputs": [],
      "source": [
        "### Finish your wandb run\n",
        "run.finish()"
      ]
    },
    {
      "cell_type": "markdown",
      "metadata": {
        "id": "MMIoBN4vlRE6"
      },
      "source": [
        "**For Kaggle users:**\n",
        "\n",
        "You'll find the \"**verification_submission.csv**\" under the **right sidebar → Output → kaggle/working/**.\n",
        "If you don't see it immediately, click the refresh icon in the top-right corner.\n",
        "Once located, **right-click → Download**, and then manually upload the file to the Kaggle competition submission page.\n",
        "\n",
        "**For Colab and PSC users**, run the following blocks:"
      ]
    },
    {
      "cell_type": "code",
      "execution_count": null,
      "metadata": {
        "id": "v3_8VUTQ52zT"
      },
      "outputs": [],
      "source": [
        "### Submit to kaggle competition using kaggle API (Uncomment below to use)\n",
        "!kaggle competitions submit -c 11785-hw-2-p-2-face-verification-fall-2025 -f verification_submission.csv -m \"Test Submission\"\n",
        "\n",
        "### However, its always safer to download the csv file and then upload to kaggle"
      ]
    },
    {
      "cell_type": "code",
      "execution_count": null,
      "metadata": {
        "id": "9nEZR3WNU2am"
      },
      "outputs": [],
      "source": [
        "# If you need to download the CSV and submit manually, uncomment the appropriate section below.\n",
        "\n",
        "# #Colab users:\n",
        "# from google.colab import files\n",
        "# files.download(\"verification_submission.csv\")\n",
        "\n",
        "# #PSC users:\n",
        "# Download the file manually:\n",
        "# # Navigate to the left sidebar → locate the file in \"/jet/home/<your_username>\"\n",
        "# # Right-click the file and select \"Download\".\n",
        "# # If you don't see it immediately, try refreshing the file browser."
      ]
    },
    {
      "cell_type": "markdown",
      "metadata": {
        "id": "8qQQ3MWmNIiz"
      },
      "source": [
        "#### TODO: Generate a model_metadata.json file to save your model's data (due 48 hours after Kaggle submission deadline OR the day of slack submission)"
      ]
    },
    {
      "cell_type": "code",
      "execution_count": null,
      "metadata": {
        "id": "DDA0hFlcqhtA"
      },
      "outputs": [],
      "source": [
        "import json, os, sys, torch, datetime\n",
        "################################\n",
        "# TODO: Keep the model_metadata.json\n",
        "# file safe for submission ater.\n",
        "################################\n",
        "def is_colab():\n",
        "    return \"google.colab\" in sys.modules and \"COLAB_GPU\" in os.environ\n",
        "\n",
        "def is_kaggle():\n",
        "    return \"KAGGLE_KERNEL_RUN_TYPE\" in os.environ or \"KAGGLE_URL_BASE\" in os.environ\n",
        "\n",
        "def generate_model_submission_file(model):\n",
        "    timestamp = datetime.datetime.now().strftime(\"%Y-%m-%d_%H-%M\")\n",
        "    json_filename = f\"model_metadata_{timestamp}.json\"\n",
        "\n",
        "    # Create JSON with parameter count, model architecture, and predictions\n",
        "    output_json = {\n",
        "        \"parameter_count\": sum(p.numel() for p in model.parameters() if p.requires_grad),\n",
        "        \"model_architecture\": str(model),\n",
        "    }\n",
        "\n",
        "    # Save metadata JSON\n",
        "    with open(json_filename, \"w\") as f:\n",
        "        json.dump(output_json, f, indent=2)\n",
        "\n",
        "    # Download / display link depending on environment\n",
        "    if is_colab():\n",
        "        from google.colab import files\n",
        "        print(f\"OK: Saved as {json_filename}. Downloading in Colab...\")\n",
        "        files.download(json_filename)\n",
        "\n",
        "    elif is_kaggle():\n",
        "        from IPython.display import FileLink, display\n",
        "        print(\"#\" * 100)\n",
        "        print(f\"OK: Your submission file `{json_filename}` has been generated.\")\n",
        "        print(\"TODO: Click the link below.\")\n",
        "        print(\"1. The file will open in a new tab.\")\n",
        "        print(\"2. Right-click anywhere in the new tab and select 'Save As...'\")\n",
        "        print(\"3. Save the file to your computer with the `.json` extension.\")\n",
        "        print(\"You MUST submit this file to Autolab if this is your best submission.\")\n",
        "        print(\"#\" * 100 + \"\\n\")\n",
        "        display(FileLink(json_filename))\n",
        "\n",
        "    else:\n",
        "        print(f\"OK: saved model data saved to: '{json_filename}'\")\n",
        "        print(\"REQUIRED to submit to Autolab if these are the best model weights.\")\n",
        "\n",
        "generate_model_submission_file(model)\n",
        "#### IMPORTANT: Do NOT change the name of the model_metadata_....json file!!"
      ]
    },
    {
      "cell_type": "markdown",
      "metadata": {
        "id": "vxIHmPMj3vji"
      },
      "source": [
        "## TODO: fill in your submission requirements"
      ]
    },
    {
      "cell_type": "markdown",
      "metadata": {
        "id": "4cYYFv9xx84b"
      },
      "source": [
        "### Notes:\n",
        "\n",
        "- You will need to set the root path to your submission files (eg. MODEL_METADATA_JSON, NOTEBOOK_PATH). This will depend on your setup. For eg. if you are following our setup instruction:\n",
        "  - `Colab:`: `\"/content/...\"`In the left file pane, right-click the desired file or folder and select “Copy path”.\n",
        "  - `Kaggle:`: `\"/kaggle/working/...\"` In the right sidebar, hover over the target file or folder and click the “copy directory path” icon.\n",
        "  - `PSC`: `\"/jet/home/<your_username>/...\"` You can check the files in this path by running: ```!ls /jet/home/<your_username>/```\n",
        "\n",
        "\n",
        "Kindly modify your configurations to suit your ablations and be keen to include your name."
      ]
    },
    {
      "cell_type": "code",
      "execution_count": null,
      "metadata": {
        "id": "tqg6zK783t-N"
      },
      "outputs": [],
      "source": [
        "####################################\n",
        "#             README\n",
        "####################################\n",
        "\n",
        "# TODO: Please complete all components of this README\n",
        "README = \"\"\"\n",
        "- **Model**: Model archtiecture description. Anything unique? Any specific architecture shapes or strategies?\n",
        "- **Training Strategy**: optimizer + scheduler + loss function + any other unique ideas\n",
        "- **Augmentations**: augmentations if used. If augmentations weren't used, then ignore\n",
        "- **Notebook Execution**: Any instructions required to run your notebook.\n",
        "\"\"\"\n",
        "\n",
        "####################################\n",
        "#       Credentials (Optional)\n",
        "####################################\n",
        "\n",
        "# These are not required **IF** you have run the cells to declare these variables above.\n",
        "# If you would like to paste your credentials here again, feel free to:\n",
        "# OPTIONAL: Fill these out if you do not want to re-run previous cells to re-initialize these credential variables\n",
        "\n",
        "KAGGLE_USERNAME = \"todo-kaggle username\" #TODO\n",
        "KAGGLE_API_KEY = \"todo-kaggle key\" #TODO\n",
        "WANDB_API_KEY = \"todo-wandb key\" #TODO\n",
        "\n",
        "\n",
        "####################################\n",
        "#             Wandb Logs\n",
        "####################################\n",
        "\n",
        "# TODO: Your wandb project url should look like https://wandb.ai/username-or-team-name/project-name\n",
        "#(Take these parameters and put them in the variables below)\n",
        "\n",
        "WANDB_USERNAME_OR_TEAMNAME = \"todo-wandb username/teamname\" # TODO: Put your username-or-team-name here\n",
        "WANDB_PROJECT = \"todo-wandb project name\" # TODO: Put your project-name\n",
        "\n",
        "####################################\n",
        "#         Notebook & Files\n",
        "####################################\n",
        "\n",
        "# TODO: Download HW2P2 Notebook (if on colab or kaggle) and upload both your HW2P2 notebook + model_metadata_*.json to your file system.\n",
        "# TODO: For each file, obtain the file paths and put them below.\n",
        "\n",
        "# TODO: COLAB INSTRUCTIONS:\n",
        "# * With Colab, upload your desired file (notebook or model_metadata.json) to \"Files\"\n",
        "# * Right-click the file, click \"Copy Path,\"\n",
        "# * Paste the path below.\n",
        "\n",
        "# TODO: KAGGLE INSTRUCTIONS:\n",
        "# * First download a copy of your notebook with \"File > Download Notebook\"\n",
        "# Then...\n",
        "# * Click \"File\" in the top left of the screen\n",
        "# * Go to \"Upload Input > Upload Model\"\n",
        "# * Upload your notebook file.\n",
        "# * For \"Model Name\" put HW2P2_Final_Submission\n",
        "# * For \"Framework\" put \"Other\"\n",
        "# * For \"License\" put \"Other\"\n",
        "# * Click \"Upload another file\" and upload your model_metadata####.json file as well.\n",
        "# * Now, on your right in your \"Models\" section, you should see a new folder with your submission files.\n",
        "# * Click on the \"Copy File Path\" buttons for the notebook and json file and paste them below.\n",
        "\n",
        "# TODO: Linux system:\n",
        "# * Simply upload or find the path of your notebook file and model_metadata###.json file, and paste them here.\n",
        "\n",
        "NOTEBOOK_PATH = \"/content/drive/MyDrive/TA/hw2p2/HW2P2_TA_Starter_Notebook_final.ipynb\" # TODO: Put your HW2P2 notebook path here\n",
        "MODEL_METADATA_JSON = \"/content/model_metadata_2025-07-14_21-42.json\" # TODO: Put your Model Metadata path json file here (see end of HW2P2 Code Notebook to get this file)\n",
        "\n",
        "\n",
        "####################################\n",
        "#         Additional Files\n",
        "####################################\n",
        "\n",
        "ADDITIONAL_FILES = [ # TODO: Upload any files and add any paths to any additional files you would like to include in your submission, otherwise, leave this empty\n",
        "]\n",
        "\n",
        "####################################\n",
        "#         SLACK SUBMISSION\n",
        "####################################\n",
        "\n",
        "ENABLE_SLACK_SUBMISSION = False # TODO: Set this to true if you are submitting to the Slack competition\n",
        "\n",
        "####################################\n",
        "#     Creating the Submission\n",
        "####################################\n",
        "\n",
        "# TODO: Once the README, wandb information, and file paths are filled in, run this cell,\n",
        "# run the \"Assignment Backend Functions\" in the next cells, and generate the final zip file at the end.\n",
        "\n",
        "SAFE_SUBMISSION = True # TODO: Set this to False if you want to generate a submission.zip even if you are missing files, otherwise it's recommended to keep this as True\n"
      ]
    },
    {
      "cell_type": "markdown",
      "metadata": {
        "id": "zmsS-WutY2n_"
      },
      "source": [
        "# Assignment Backend Submission Functions (DO NOT MODIFY, just run these cells)"
      ]
    },
    {
      "cell_type": "code",
      "execution_count": null,
      "metadata": {
        "id": "a1MFM7JBcDba"
      },
      "outputs": [],
      "source": [
        "from datetime import datetime\n",
        "\n",
        "######################################\n",
        "#       Assignment Configs\n",
        "######################################\n",
        "\n",
        "WANDB_METRIC = \"EER\"\n",
        "WANDB_DIRECTION = \"descending\"\n",
        "WANDB_TOP_N = 10\n",
        "WANDB_OUTPUT_PKL = \"wandb_top_runs.pkl\"\n",
        "\n",
        "# Kaggle configuration\n",
        "COMPETITION_NAME = \"11785-hw-2-p-2-face-verification-fall-2025\"\n",
        "SLACK_COMPETITION_NAME = \"11785-hw-2-p-2-face-verification-fall-2025-slack\"\n",
        "INAL_SUBMISSION_DATETIME = datetime.strptime(\"2025-10-12 23:55:00\", \"%Y-%m-%d %H:%M:%S\")\n",
        "SLACK_SUBMISSION_DATETIME = datetime.strptime(\"2025-10-17 23:55:00\", \"%Y-%m-%d %H:%M:%S\")\n",
        "GRADING_DIRECTION = \"descending\"\n",
        "KAGGLE_OUTPUT_JSON = \"kaggle_data.json\"\n",
        "\n",
        "SUBMISSION_OUTPUT = \"HW2P2_final_submission.zip\""
      ]
    },
    {
      "cell_type": "code",
      "execution_count": null,
      "metadata": {
        "id": "zb-OGuTN5MI5"
      },
      "outputs": [],
      "source": [
        "from datetime import datetime, timezone\n",
        "import zoneinfo\n",
        "\n",
        "eastern = zoneinfo.ZoneInfo(\"America/New_York\")\n",
        "FINAL_DEADLINE_UTC = (\n",
        "    datetime.strptime(FINAL_SUBMISSION_DATETIME, \"%Y-%m-%d %H:%M:%S\")\n",
        "    .replace(tzinfo=eastern)\n",
        "    .astimezone(timezone.utc)\n",
        ")\n",
        "\n",
        "SLACK_DEADLINE_UTC = (\n",
        "    datetime.strptime(SLACK_SUBMISSION_DATETIME, \"%Y-%m-%d %H:%M:%S\")\n",
        "    .replace(tzinfo=eastern)\n",
        "    .astimezone(timezone.utc)\n",
        ")\n",
        "\n",
        "ACKNOWLEDGEMENT_MESSAGE = \"\"\"\n",
        "Submission of this file and assignment indicate the student's agreement to the following Aknowledgement requirements:\n",
        "Setting the ACNKOWLEDGED flag to True indicates full understanding and acceptance of the following:\n",
        "1. Slack days may ONLY be used on P2 FINAL (not checkpoint) submission. I.e. you may use slack days to submit final P2 kaggle scores (such as this one) later on the **SLACK KAGGLE COMPETITION** at the expense of your Slack days.\n",
        "2. The final autolab **code submission is due 48 hours after** the conclusion of the Kaggle Deadline (or, the same day as your final kaggle submission).\n",
        "3. Course staff will require your kaggle username here, and then will pull your official PRIVATE kaggle leaderboard score. This submission may result in slight variance in scores/code, but we will check for acceptable discrepancies. Any discrepancies related to modifying the submission code (at the bottom of the notebook) will result in an AIV.\n",
        "4. You are NOT allowed to use any code that will pre-load models (such as those from Hugging Face, etc.).\n",
        "   You MAY use models described by papers or articles, but you MUST implement them yourself through fundamental PyTorch operations (i.e. Linear, Conv2d, etc.).\n",
        "5. You are NOT allowed to use any external data/datasets at ANY point of this assignment.\n",
        "6. You may work with teammates to run ablations/experiments, BUT you must submit your OWN code and your OWN results.\n",
        "7. Failure to comply with the prior rules will be considered an Academic Integrity Violation (AIV).\n",
        "8. Late submissions MUST be submitted through the Slack Kaggle (see writeup for details). Any submissions made to the regular Kaggle after the original deadline will NOT be considered, no matter how many slack days remain for the student.\n",
        "\"\"\"\n",
        "def save_acknowledgment_file():\n",
        "    if ACKNOWLEDGED:\n",
        "        with open(\"acknowledgement.txt\", \"w\") as f:\n",
        "            f.write(ACKNOWLEDGEMENT_MESSAGE.strip())\n",
        "        print(\"Saved acknowledgement.txt\")\n",
        "        return True\n",
        "    else:\n",
        "        print(\"ERROR: Must set ACKNOWLEDGED = True.\")\n",
        "        return False\n",
        "# Saves README\n",
        "def save_readme(readme):\n",
        "    try:\n",
        "        with open(\"README.txt\", \"w\") as f:\n",
        "            f.write(readme.strip())\n",
        "\n",
        "        print(\"Saved README.txt\")\n",
        "    except Exception as e:\n",
        "        print(f\"ERROR: Error occured while saving README.txt: {e}\")\n",
        "        return False\n",
        "\n",
        "    return True\n",
        "\n",
        "# Saves wandb logs\n",
        "import wandb, json, pickle\n",
        "\n",
        "def save_top_wandb_runs():\n",
        "    wandb.login(key=WANDB_API_KEY)\n",
        "    if not ACKNOWLEDGED:\n",
        "        print(\"ERROR: Must set ACKNOWLEDGED = True.\")\n",
        "        return False\n",
        "\n",
        "    api = wandb.Api()\n",
        "    runs = api.runs(\n",
        "        f\"{WANDB_USERNAME_OR_TEAMNAME}/{WANDB_PROJECT}\",\n",
        "        order=f\"{'-' if WANDB_DIRECTION == 'descending' else ''}summary_metrics.{WANDB_METRIC}\"\n",
        "    )\n",
        "    selected_runs = runs[:min(WANDB_TOP_N, len(runs))]\n",
        "\n",
        "    if not selected_runs:\n",
        "        print(f\"ERROR: No runs found for {WANDB_USERNAME_OR_TEAMNAME}/{WANDB_PROJECT}. Please check that your wandb credentials (Wandb Username/Team Name, API Key, and Project Name) are correct.\")\n",
        "        return False\n",
        "\n",
        "    all_data = []\n",
        "    for run in selected_runs:\n",
        "        run_data = {\n",
        "            \"id\": run.id,\n",
        "            \"name\": run.name,\n",
        "            \"tags\": run.tags,\n",
        "            \"state\": run.state,\n",
        "            \"created_at\": str(run.created_at),\n",
        "            \"config\": run.config,\n",
        "            \"summary\": dict(run.summary),\n",
        "        }\n",
        "        try:\n",
        "            run_data[\"history\"] = run.history(samples=1000)\n",
        "        except Exception as e:\n",
        "            run_data[\"history\"] = f\"Failed to fetch history: {str(e)}\"\n",
        "        all_data.append(run_data)\n",
        "    with open(WANDB_OUTPUT_PKL, \"wb\") as f:\n",
        "        pickle.dump(all_data, f)\n",
        "\n",
        "    print(f\"OK: Exported {len(all_data)} WandB runs to {WANDB_OUTPUT_PKL}\")\n",
        "\n",
        "    return True\n",
        "# Saves kaggle information\n",
        "\n",
        "# Install dependencies silently (only if running on Colab)\n",
        "import sys\n",
        "\n",
        "from datetime import datetime\n",
        "import os, json, requests\n",
        "def kaggle_login(username, key):\n",
        "    os.makedirs(os.path.expanduser(\"~/.kaggle\"), exist_ok=True)\n",
        "    with open(os.path.expanduser(\"~/.kaggle/kaggle.json\"), \"w\") as f:\n",
        "        json.dump({\"username\": username, \"key\": key}, f)\n",
        "    os.chmod(os.path.expanduser(\"~/.kaggle/kaggle.json\"), 0o600)\n",
        "\n",
        "\n",
        "def get_active_submission_config():\n",
        "    if ENABLE_SLACK_SUBMISSION:\n",
        "        return SLACK_COMPETITION_NAME, SLACK_DEADLINE_UTC\n",
        "    return COMPETITION_NAME, FINAL_DEADLINE_UTC\n",
        "\n",
        "def kaggle_user_exists(usernagbme):\n",
        "    try:\n",
        "        return requests.get(f\"https://www.kaggle.com/{KAGGLE_USERNAME}\").status_code == 200\n",
        "    except Exception as e:\n",
        "        print(f\"ERROR: Error occured while checking Kaggle user: {e}\")\n",
        "        return False\n",
        "\n",
        "DEFAULT_SCORE=0\n",
        "if GRADING_DIRECTION == \"ascending\":\n",
        "    DEFAULT_SCORE=0\n",
        "else:\n",
        "    DEFAULT_SCORE=1.0\n",
        "\n",
        "def get_best_kaggle_score(subs):\n",
        "    def extract_score(s): return float(s.private_score or s.public_score or DEFAULT_SCORE)\n",
        "    if not subs:\n",
        "        return None, None\n",
        "    best = max(subs, key=lambda s: extract_score(s) if GRADING_DIRECTION == \"ascending\" else -extract_score(s))\n",
        "\n",
        "    score_type = \"private\" if best.private_score not in [None, \"\"] else \"public\"\n",
        "    return extract_score(best), score_type\n",
        "\n",
        "def save_kaggle_json(kaggle_username, kaggle_key):\n",
        "\n",
        "    kaggle_login(kaggle_username, kaggle_key)\n",
        "\n",
        "    from kaggle.api.kaggle_api_extended import KaggleApi\n",
        "\n",
        "    if not ACKNOWLEDGED:\n",
        "        print(\"ERROR: Must set ACKNOWLEDGED = True.\")\n",
        "        return False\n",
        "\n",
        "    if not kaggle_user_exists(KAGGLE_USERNAME):\n",
        "        print(f\"ERROR: User '{KAGGLE_USERNAME}' not found.\")\n",
        "        return False\n",
        "\n",
        "    comp_name, deadline = get_active_submission_config()\n",
        "\n",
        "    api = KaggleApi()\n",
        "    api.authenticate()\n",
        "\n",
        "    # Get competition submissions\n",
        "    submissions = [s for s in api.competition_submissions(comp_name) if getattr(s, \"_submitted_by\", None) == KAGGLE_USERNAME]\n",
        "    if not submissions:\n",
        "        print(f\"ERROR: No valid submissions found for user [{KAGGLE_USERNAME}] for this competition [{comp_name}]. Slack flag set to [{ENABLE_SLACK_SUBMISSION}]\")\n",
        "        print(\"Please double check your Kaggle username and ensure you've submitted at least once.\")\n",
        "        return False\n",
        "\n",
        "    score, score_type = get_best_kaggle_score(submissions)\n",
        "    result = {\n",
        "        \"kaggle_username\": KAGGLE_USERNAME,\n",
        "        \"acknowledgement\": ACKNOWLEDGED,\n",
        "        \"submitted_slack\": ENABLE_SLACK_SUBMISSION,\n",
        "        \"competition_name\": comp_name,\n",
        "        \"deadline\": deadline.strftime(\"%Y-%m-%d %H:%M:%S\"),\n",
        "        \"raw_score\": score * 100.0,\n",
        "        \"score_type\": score_type,\n",
        "    }\n",
        "\n",
        "    print(f\"OK: Projected score (excluding bonuses) saved as {KAGGLE_OUTPUT_JSON}\")\n",
        "    if score:\n",
        "        print(f\"Best score {score}.\")\n",
        "        with open(KAGGLE_OUTPUT_JSON, \"w\") as f:\n",
        "            json.dump(result, f, indent=2)\n",
        "        return True\n",
        "    return False\n",
        "\n",
        "import os\n",
        "import sys\n",
        "import zipfile\n",
        "\n",
        "\n",
        "def create_submission_zip(additional_files, safe_flag):\n",
        "    if not \"ACKNOWLEDGED\" in globals() or not ACKNOWLEDGED:\n",
        "        print(\"ERROR: Make sure to RUN the Acknowledgement cell (at the top of the notebook). Also, must set ACKNOWLEDGED = True.\")\n",
        "        return\n",
        "\n",
        "    if (not save_acknowledgment_file()):\n",
        "        print(\"ERROR: Make sure to RUN the Acknowledgement cell (at the top of the notebook). Also, must set ACKNOWLEDGED = True.\")\n",
        "        return\n",
        "\n",
        "\n",
        "    if not \"ENABLE_SLACK_SUBMISSION\" in globals() or ENABLE_SLACK_SUBMISSION is None:\n",
        "        print(\"ERROR: \\\"ENABLE_SLACK_SUBMISSION\\\" variable is not defined. \\nTODO: Make sure to RUN the cell (A few cells up at the beginning of the submission section). \\nMake sure to set the ENABLE_SLACK_SUBMISSION checkbox if you're on colab, or set the parameter correctly set on other platforms \\n(if you are submitting through the SLACK submission).\")\n",
        "        return\n",
        "\n",
        "    if not \"README\" in globals() or not README:\n",
        "        print(\"ERROR: Make sure to RUN the README cell(above your credentials cell).\")\n",
        "        return\n",
        "\n",
        "    if (not save_readme(README)):\n",
        "        print(\"ERROR: Error while saving the README file. Make sure to complete and RUN the README cell(above your credentials cell).\")\n",
        "        return\n",
        "\n",
        "    if (not save_top_wandb_runs()):\n",
        "        return\n",
        "\n",
        "    if not \"KAGGLE_USERNAME\" in globals() or not \"KAGGLE_API_KEY\" in globals() or not KAGGLE_USERNAME or not KAGGLE_API_KEY:\n",
        "        print(\"ERROR: Make sure to set KAGGLE_USERNAME and KAGGLE_API_KEY for this code submission.\")\n",
        "        return\n",
        "\n",
        "    if (not save_kaggle_json(KAGGLE_USERNAME, KAGGLE_API_KEY)):\n",
        "        print(f\"ERROR: An error occured while retrieve kaggle information from username [{KAGGLE_USERNAME}] from competition [{get_active_submission_config()[0]}] with slack flag set to [{ENABLE_SLACK_SUBMISSION}]. Please check your kaggle username, key, and submission.\")\n",
        "        return\n",
        "\n",
        "    files_to_zip = [\n",
        "        \"acknowledgement.txt\",\n",
        "        \"README.txt\",\n",
        "        KAGGLE_OUTPUT_JSON,\n",
        "        WANDB_OUTPUT_PKL,\n",
        "        MODEL_METADATA_JSON,\n",
        "        NOTEBOOK_PATH,\n",
        "    ] + additional_files\n",
        "\n",
        "    missing_files = False\n",
        "\n",
        "    with zipfile.ZipFile(SUBMISSION_OUTPUT, \"w\") as zipf:\n",
        "        for file_path in files_to_zip:\n",
        "            if os.path.exists(file_path):\n",
        "                arcname = os.path.basename(file_path)  # flatten path\n",
        "                zipf.write(file_path, arcname=arcname)\n",
        "                print(f\"OK: Added {arcname}\")\n",
        "            else:\n",
        "                missing_files = True\n",
        "                print(f\"ERROR: Missing file: {file_path}\")\n",
        "\n",
        "    if missing_files:\n",
        "        if safe_flag:\n",
        "            raise \"ERROR: Missing files with safety flag set to True. Please upload any necessary files, ensure you have the correct paths and rerun all cells.\"\n",
        "        else:\n",
        "            print(\"WARNING: Missing files with safety flag set to False. Submission may be incomplete.\")\n",
        "\n",
        "    if \"google.colab\" in sys.modules:\n",
        "        from google.colab import files\n",
        "        files.download(SUBMISSION_OUTPUT)\n",
        "\n",
        "    print(\"Final submission saved as:\", SUBMISSION_OUTPUT)"
      ]
    },
    {
      "cell_type": "markdown",
      "metadata": {
        "id": "0m2dFq8pc21u"
      },
      "source": [
        "# File Generation (TODO: Check file generation outputs for any errors)"
      ]
    },
    {
      "cell_type": "markdown",
      "metadata": {
        "id": "O7kUDNxw0Iw7"
      },
      "source": [
        "### For Colab and PSC users:"
      ]
    },
    {
      "cell_type": "code",
      "execution_count": null,
      "metadata": {
        "id": "Ii_kBJ7KZAYm"
      },
      "outputs": [],
      "source": [
        "create_submission_zip(ADDITIONAL_FILES, SAFE_SUBMISSION)\n",
        "\n",
        "#TODO: If the HW2P2_final_submission.zip file does not\n",
        "# automatically bring up a donwload pop-up\n",
        "# Then make sure to entire the files and\n",
        "#manually download the checkpoint_submission.json file."
      ]
    },
    {
      "cell_type": "markdown",
      "metadata": {
        "id": "b9HAE4-r0oZn"
      },
      "source": [
        "### For Kaggle users:\n",
        "Manually download the \"**HW2P2_final_submission.zip**\" file from the right sidebar under the **kaggle/working/.. **directory.\n",
        "\n"
      ]
    }
  ],
  "metadata": {
    "accelerator": "GPU",
    "colab": {
      "collapsed_sections": [
        "P5gfdJzx3kG8",
        "EutBOttx3kG8",
        "62j2RAEA3kG8",
        "HavF1IlO3kG9",
        "d5l6iDrZ3kG9",
        "Rsnoo8SU3kG9",
        "da-B39u83kG9"
      ],
      "gpuType": "T4",
      "provenance": []
    },
    "kernelspec": {
      "display_name": "Python 3",
      "name": "python3"
    },
    "language_info": {
      "codemirror_mode": {
        "name": "ipython",
        "version": 3
      },
      "file_extension": ".py",
      "mimetype": "text/x-python",
      "name": "python",
      "nbconvert_exporter": "python",
      "pygments_lexer": "ipython3",
      "version": "3.10.12"
    }
  },
  "nbformat": 4,
  "nbformat_minor": 0
}
